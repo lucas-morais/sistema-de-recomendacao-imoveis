{
  "nbformat": 4,
  "nbformat_minor": 0,
  "metadata": {
    "colab": {
      "provenance": [],
      "authorship_tag": "ABX9TyNp9JzdAL1ZWJhjD9RymDvP",
      "include_colab_link": true
    },
    "kernelspec": {
      "name": "python3",
      "display_name": "Python 3"
    },
    "language_info": {
      "name": "python"
    }
  },
  "cells": [
    {
      "cell_type": "markdown",
      "metadata": {
        "id": "view-in-github",
        "colab_type": "text"
      },
      "source": [
        "<a href=\"https://colab.research.google.com/github/lucas-morais/sistema-de-recomendacao-imoveis/blob/semana2/Predicao_de_Preco_de_Imoveis.ipynb\" target=\"_parent\"><img src=\"https://colab.research.google.com/assets/colab-badge.svg\" alt=\"Open In Colab\"/></a>"
      ]
    },
    {
      "cell_type": "markdown",
      "source": [
        "# **Predição de Preços de Imóveis com PySpark**"
      ],
      "metadata": {
        "id": "3g7lKJS9PWNQ"
      }
    },
    {
      "cell_type": "markdown",
      "source": [
        "Predição do valor do imóvel com dados de anúncio da **InsightPlaces**"
      ],
      "metadata": {
        "id": "t7fhUP_jQWMB"
      }
    },
    {
      "cell_type": "markdown",
      "source": [
        "**Os dados foram previamente tratados**\n",
        "\n",
        "O processo de análise exploratória pode ser encontrado [aqui](https://github.com/lucas-morais/sistema-de-recomendacao-imoveis/blob/main/Analise_Exploratoria.ipynb)."
      ],
      "metadata": {
        "id": "RnHyLPvbQ8XN"
      }
    },
    {
      "cell_type": "markdown",
      "source": [
        "[Base de dados após tratamento inicial - InsightPlaces](https://caelum-online-public.s3.amazonaws.com/challenge-spark/semana-2.zip)\n",
        "\n",
        "### Dicionário de Dados - Anuncio\n",
        "\n",
        "| Colunas         |Descrição                                                      |\n",
        "|-----------------|----------------------------------------------------------------|\n",
        "| id              | Código de identificação do anúncio no sistema da InsightPlaces |\n",
        "| tipo_unidade    | Tipo de imóvel (apartamento, casa e outros)                    |\n",
        "| tipo_uso        | Tipo de uso do imóvel (residencial ou comercial)               |\n",
        "| area_total      | Área total do imóvel (construção e terreno)                    |\n",
        "| area_util       | Área construída do imóvel                                      |\n",
        "| quartos         | Quantidade de quartos do imóvel                                |\n",
        "| suites          | Quantidade de suítes do imóvel                                 |\n",
        "| banheiros       | Quantidade de banheiros do imóvel                              |\n",
        "| vaga            | Quantidade de vagas de garagem do imóvel                       |\n",
        "| caracteristicas | Listagem de características do imóvel                          |\n",
        "| andar           | Número do andar do imóvel                                      |\n",
        "| endereco        | Informações sobre o endereço do imóvel                         |\n",
        "| valores         | Informações sobre valores de venda e locação dos imóveis       |"
      ],
      "metadata": {
        "id": "sETRg2qqRQEJ"
      }
    },
    {
      "cell_type": "markdown",
      "source": [
        "## **Preparando Ambiente**"
      ],
      "metadata": {
        "id": "5MpLzW_xRmoz"
      }
    },
    {
      "cell_type": "markdown",
      "source": [
        "### **Instalanado Depedências**"
      ],
      "metadata": {
        "id": "RkDAss_uR0kg"
      }
    },
    {
      "cell_type": "code",
      "execution_count": 11,
      "metadata": {
        "id": "PY5IfnkhPMwv"
      },
      "outputs": [],
      "source": [
        "!pip install pyspark -q  "
      ]
    },
    {
      "cell_type": "markdown",
      "source": [
        "### **Criando Sessão Spark**"
      ],
      "metadata": {
        "id": "9sdUx3szR_J7"
      }
    },
    {
      "cell_type": "code",
      "source": [
        "from pyspark.sql import SparkSession\n",
        "\n",
        "spark = SparkSession\\\n",
        "    .builder\\\n",
        "    .master('local[*]')\\\n",
        "    .appName('Predicao-precos-imoveis')\\\n",
        "    .getOrCreate()\n",
        "\n",
        "spark"
      ],
      "metadata": {
        "colab": {
          "base_uri": "https://localhost:8080/",
          "height": 219
        },
        "id": "mGrOmTznQ7FK",
        "outputId": "229894c1-cf0c-4db6-eba8-9ac8bd3eca74"
      },
      "execution_count": 12,
      "outputs": [
        {
          "output_type": "execute_result",
          "data": {
            "text/plain": [
              "<pyspark.sql.session.SparkSession at 0x7fccd6d5a7c0>"
            ],
            "text/html": [
              "\n",
              "            <div>\n",
              "                <p><b>SparkSession - in-memory</b></p>\n",
              "                \n",
              "        <div>\n",
              "            <p><b>SparkContext</b></p>\n",
              "\n",
              "            <p><a href=\"http://3ba7a465dd4d:4040\">Spark UI</a></p>\n",
              "\n",
              "            <dl>\n",
              "              <dt>Version</dt>\n",
              "                <dd><code>v3.3.1</code></dd>\n",
              "              <dt>Master</dt>\n",
              "                <dd><code>local[*]</code></dd>\n",
              "              <dt>AppName</dt>\n",
              "                <dd><code>Predicao-precos-imoveis</code></dd>\n",
              "            </dl>\n",
              "        </div>\n",
              "        \n",
              "            </div>\n",
              "        "
            ]
          },
          "metadata": {},
          "execution_count": 12
        }
      ]
    },
    {
      "cell_type": "markdown",
      "source": [
        "## **Carregando Dados**"
      ],
      "metadata": {
        "id": "UgwLYpkxShhe"
      }
    },
    {
      "cell_type": "markdown",
      "source": [
        "### **Buscando Dados**"
      ],
      "metadata": {
        "id": "wPqM7xd_S3Px"
      }
    },
    {
      "cell_type": "code",
      "source": [
        "!wget -q \"https://caelum-online-public.s3.amazonaws.com/challenge-spark/semana-2.zip\"\n",
        "\n",
        "!unzip -q semana-2.zip"
      ],
      "metadata": {
        "id": "jHIpnswPSd9N",
        "colab": {
          "base_uri": "https://localhost:8080/"
        },
        "outputId": "46e041c9-d72b-41ed-84b4-1e4499fd847d"
      },
      "execution_count": 13,
      "outputs": [
        {
          "output_type": "stream",
          "name": "stdout",
          "text": [
            "replace dataset_transformado_parquet/_SUCCESS? [y]es, [n]o, [A]ll, [N]one, [r]ename: n\n",
            "replace dataset_transformado_parquet/._SUCCESS.crc? [y]es, [n]o, [A]ll, [N]one, [r]ename: n\n",
            "replace dataset_transformado_parquet/part-00000-00341ba7-0a7c-4fef-a81e-1066725a64b1-c000.snappy.parquet? [y]es, [n]o, [A]ll, [N]one, [r]ename: n\n",
            "replace dataset_transformado_parquet/.part-00000-00341ba7-0a7c-4fef-a81e-1066725a64b1-c000.snappy.parquet.crc? [y]es, [n]o, [A]ll, [N]one, [r]ename: n\n"
          ]
        }
      ]
    },
    {
      "cell_type": "markdown",
      "source": [
        "### **Lendo dados**"
      ],
      "metadata": {
        "id": "URnr_jLxS-K2"
      }
    },
    {
      "cell_type": "code",
      "source": [
        "# lendo dados no formato parquet\n",
        "\n",
        "dados = spark.read.parquet('dataset_transformado_parquet')\n",
        "\n",
        "dados.show()"
      ],
      "metadata": {
        "colab": {
          "base_uri": "https://localhost:8080/"
        },
        "id": "EbjjYnW-Strs",
        "outputId": "85e9f6b1-ee89-4796-b119-0e4ac9fbcf46"
      },
      "execution_count": 16,
      "outputs": [
        {
          "output_type": "stream",
          "name": "stdout",
          "text": [
            "+--------------------+-----+----------+---------+---------+--------------------+-------+------+------------+------------+-----------+----+--------------------+------------+----------+----+-----+------+\n",
            "|                  id|andar|area_total|area_util|banheiros|     caracteristicas|quartos|suites|tipo_anuncio|tipo_unidade|   tipo_uso|vaga|              bairro|        zona|condominio|iptu| tipo| valor|\n",
            "+--------------------+-----+----------+---------+---------+--------------------+-------+------+------------+------------+-----------+----+--------------------+------------+----------+----+-----+------+\n",
            "|03a386b6-7ab8-4ef...|    0|        43|       43|        1|[Churrasqueira, A...|      2|  null|       Usado| Apartamento|Residencial|   1|            Realengo|  Zona Oeste|       285|null|Venda| 22999|\n",
            "|1fe78d41-b8e0-4d2...|    0|        44|       44|        1|                  []|      2|     0|       Usado| Apartamento|Residencial|   0|               Irajá|  Zona Norte|       170|   0|Venda|110000|\n",
            "|1fa1c1e5-e98c-433...|    4|      null|       55|        1|                  []|      2|     0|       Usado| Apartamento|Residencial|   1|              Cosmos|  Zona Oeste|      null|null|Venda|115000|\n",
            "|a6ab01ae-3d40-40e...|    2|      null|       55|        1|                  []|      2|     0|       Usado| Apartamento|Residencial|   0|        Tomás Coelho|  Zona Norte|      null|null|Venda|115000|\n",
            "|1d8ff7a2-16bd-4e3...|    0|      null|       50|        1|                  []|      1|  null|       Usado| Apartamento|Residencial|   0|              Centro|Zona Central|      1300|2679|Venda|125000|\n",
            "|40a2cbde-946b-42d...|    2|        47|       47|        1|[Condomínio fecha...|      2|     0|       Usado| Apartamento|Residencial|   1|        Campo Grande|  Zona Oeste|       380|null|Venda|138000|\n",
            "|be269ddf-a4a3-4a7...|    0|     17089|       45|        1|[Churrasqueira, C...|      2|     0|       Usado| Apartamento|Residencial|   1|        Campo Grande|  Zona Oeste|       356|   0|Venda|140000|\n",
            "|4b7e3d59-34fd-4ba...|    3|        48|       48|        1|[Churrasqueira, P...|      2|  null|       Usado| Apartamento|Residencial|   1|        Campo Grande|  Zona Oeste|         0|   0|Venda|150000|\n",
            "|a1a0c2ac-4fa8-4b0...|    9|      null|       55|        1|[Churrasqueira, E...|      2|  null|       Usado| Apartamento|Residencial|   1|Freguesia (Jacare...|  Zona Oeste|       780| 660|Venda|160000|\n",
            "|390d2b88-e06d-47e...|    0|        70|       70|        2|   [Salão de festas]|      2|     0|       Usado| Apartamento|Residencial|   1|          Praça Seca|  Zona Oeste|    420000|null|Venda|159000|\n",
            "|07bb07c1-21cc-4da...|    2|        50|       48|        1|[Condomínio fecha...|      1|     0|       Usado| Apartamento|Residencial|   0|             Piedade|  Zona Norte|        10|  10|Venda|170000|\n",
            "|7d3a1bae-988c-44b...|    5|        40|       40|        1|[Playground, Chur...|      2|     0|       Usado| Apartamento|Residencial|   1|        Braz de Pina|  Zona Norte|       150| 120|Venda|189000|\n",
            "|47af17f0-1c81-474...|    0|        65|       65|        1|                  []|      2|     0|       Usado| Apartamento|Residencial|   1|            Campinho|  Zona Oeste|       432|null|Venda|185000|\n",
            "|a9bd1575-e9f2-43d...|    2|        50|       50|        1|[Condomínio fecha...|      1|     0|       Usado| Apartamento|Residencial|   1|           Madureira|  Zona Norte|       650|   1|Venda|185000|\n",
            "|cfca7253-3d02-4cd...|    5|        45|       45|        1|[Academia, Churra...|      2|     1|       Usado| Apartamento|Residencial|   0|             Taquara|  Zona Oeste|       150|  40|Venda|199000|\n",
            "|b571ae97-e3d8-4fb...|    0|        48|       48|        1|[Academia, Condom...|      2|  null|       Usado| Apartamento|Residencial|   0|          Bonsucesso|  Zona Norte|         0|   0|Venda|205933|\n",
            "|eb5fdc65-acae-45f...|    0|        44|       44|        1|[Academia, Condom...|      2|  null|       Usado| Apartamento|Residencial|   0|          Bonsucesso|  Zona Norte|         0|   0|Venda|206000|\n",
            "|77cd0388-e3ff-40c...|    2|        64|       64|        1|                  []|      2|     0|       Usado| Apartamento|Residencial|   0|      Jardim América|  Zona Norte|         0|   0|Venda|220000|\n",
            "|74a91f07-7387-4a8...|    0|        55|       55|        2|[Salão de festas,...|      1|     0|       Usado| Apartamento|Residencial|   1|        Engenho Novo|  Zona Norte|       600| 652|Venda|219130|\n",
            "|6aab1165-508d-455...|    3|        60|       60|        1|[Animais permitidos]|      3|     0|       Usado| Apartamento|Residencial|   1|           Cascadura|  Zona Norte|        98|   1|Venda|230000|\n",
            "+--------------------+-----+----------+---------+---------+--------------------+-------+------+------------+------------+-----------+----+--------------------+------------+----------+----+-----+------+\n",
            "only showing top 20 rows\n",
            "\n"
          ]
        }
      ]
    },
    {
      "cell_type": "code",
      "source": [
        "dados.printSchema()"
      ],
      "metadata": {
        "colab": {
          "base_uri": "https://localhost:8080/"
        },
        "id": "kuXHxdvQTPkX",
        "outputId": "52361377-cfb0-4797-da91-43eb674770d7"
      },
      "execution_count": 17,
      "outputs": [
        {
          "output_type": "stream",
          "name": "stdout",
          "text": [
            "root\n",
            " |-- id: string (nullable = true)\n",
            " |-- andar: long (nullable = true)\n",
            " |-- area_total: string (nullable = true)\n",
            " |-- area_util: string (nullable = true)\n",
            " |-- banheiros: long (nullable = true)\n",
            " |-- caracteristicas: array (nullable = true)\n",
            " |    |-- element: string (containsNull = true)\n",
            " |-- quartos: long (nullable = true)\n",
            " |-- suites: long (nullable = true)\n",
            " |-- tipo_anuncio: string (nullable = true)\n",
            " |-- tipo_unidade: string (nullable = true)\n",
            " |-- tipo_uso: string (nullable = true)\n",
            " |-- vaga: long (nullable = true)\n",
            " |-- bairro: string (nullable = true)\n",
            " |-- zona: string (nullable = true)\n",
            " |-- condominio: string (nullable = true)\n",
            " |-- iptu: string (nullable = true)\n",
            " |-- tipo: string (nullable = true)\n",
            " |-- valor: string (nullable = true)\n",
            "\n"
          ]
        }
      ]
    },
    {
      "cell_type": "code",
      "source": [
        "total_colunas=len(dados.columns)\n",
        "total_registros=dados.count()\n",
        "print(f'Número de colunas: {total_colunas}')\n",
        "print(f'Número de registros: {total_registros}')"
      ],
      "metadata": {
        "colab": {
          "base_uri": "https://localhost:8080/"
        },
        "id": "eiockE69cn82",
        "outputId": "930df811-e6e4-41e3-e043-415217964f00"
      },
      "execution_count": 26,
      "outputs": [
        {
          "output_type": "stream",
          "name": "stdout",
          "text": [
            "Número de colunas: 18\n",
            "Número de registros: 66562\n"
          ]
        }
      ]
    },
    {
      "cell_type": "markdown",
      "source": [
        "## **Selecionando Features**"
      ],
      "metadata": {
        "id": "LLnIdGz1a1ad"
      }
    },
    {
      "cell_type": "markdown",
      "source": [
        "### **Valores Únicos**"
      ],
      "metadata": {
        "id": "mOPu1e-TecQ2"
      }
    },
    {
      "cell_type": "code",
      "source": [
        "from pyspark.sql import functions as f\n",
        "\n",
        "dados.select([f.count_distinct(c).alias(c) for c in dados.columns]).drop('id').show()"
      ],
      "metadata": {
        "colab": {
          "base_uri": "https://localhost:8080/"
        },
        "id": "AgZZoiauevXF",
        "outputId": "d94c739b-7fb4-464c-9cf5-510c947c5cdd"
      },
      "execution_count": 34,
      "outputs": [
        {
          "output_type": "stream",
          "name": "stdout",
          "text": [
            "+-----+----------+---------+---------+---------------+-------+------+------------+------------+--------+----+------+----+----------+----+----+-----+\n",
            "|andar|area_total|area_util|banheiros|caracteristicas|quartos|suites|tipo_anuncio|tipo_unidade|tipo_uso|vaga|bairro|zona|condominio|iptu|tipo|valor|\n",
            "+-----+----------+---------+---------+---------------+-------+------+------------+------------+--------+----+------+----+----------+----+----+-----+\n",
            "|   53|       695|      592|       18|           6975|     14|    13|           1|           1|       1|  41|   154|   5|      3349|5118|   1| 9753|\n",
            "+-----+----------+---------+---------+---------------+-------+------+------------+------------+--------+----+------+----+----------+----+----+-----+\n",
            "\n"
          ]
        }
      ]
    },
    {
      "cell_type": "code",
      "source": [
        "dados.select('tipo_anuncio', 'tipo_unidade', 'tipo_uso', 'tipo').distinct().show()"
      ],
      "metadata": {
        "colab": {
          "base_uri": "https://localhost:8080/"
        },
        "id": "MVVkTmrjgYYG",
        "outputId": "1ca72dc6-0630-49d3-aca8-4affb059e974"
      },
      "execution_count": 44,
      "outputs": [
        {
          "output_type": "stream",
          "name": "stdout",
          "text": [
            "+------------+------------+-----------+-----+\n",
            "|tipo_anuncio|tipo_unidade|   tipo_uso| tipo|\n",
            "+------------+------------+-----------+-----+\n",
            "|       Usado| Apartamento|Residencial|Venda|\n",
            "+------------+------------+-----------+-----+\n",
            "\n"
          ]
        }
      ]
    },
    {
      "cell_type": "markdown",
      "source": [
        "- As colunas **tipo_anuncio**, **tipo_unidade**, **tipo_uso** e **tipo** possuem apenas um valor cada. Sendo assim, podem ser eliminadas."
      ],
      "metadata": {
        "id": "TJfli3HMiyxb"
      }
    },
    {
      "cell_type": "code",
      "source": [
        "dados = dados.drop('tipo_anuncio', 'tipo_unidade', 'tipo_uso', 'tipo')\n",
        "dados.show()"
      ],
      "metadata": {
        "colab": {
          "base_uri": "https://localhost:8080/"
        },
        "id": "s2k5Mz7ygj1u",
        "outputId": "5197ee28-165f-4cc6-9484-d1a98f0b1ac4"
      },
      "execution_count": 45,
      "outputs": [
        {
          "output_type": "stream",
          "name": "stdout",
          "text": [
            "+--------------------+-----+----------+---------+---------+--------------------+-------+------+----+--------------------+------------+----------+----+------+\n",
            "|                  id|andar|area_total|area_util|banheiros|     caracteristicas|quartos|suites|vaga|              bairro|        zona|condominio|iptu| valor|\n",
            "+--------------------+-----+----------+---------+---------+--------------------+-------+------+----+--------------------+------------+----------+----+------+\n",
            "|03a386b6-7ab8-4ef...|    0|        43|       43|        1|[Churrasqueira, A...|      2|  null|   1|            Realengo|  Zona Oeste|       285|null| 22999|\n",
            "|1fe78d41-b8e0-4d2...|    0|        44|       44|        1|                  []|      2|     0|   0|               Irajá|  Zona Norte|       170|   0|110000|\n",
            "|1fa1c1e5-e98c-433...|    4|      null|       55|        1|                  []|      2|     0|   1|              Cosmos|  Zona Oeste|      null|null|115000|\n",
            "|a6ab01ae-3d40-40e...|    2|      null|       55|        1|                  []|      2|     0|   0|        Tomás Coelho|  Zona Norte|      null|null|115000|\n",
            "|1d8ff7a2-16bd-4e3...|    0|      null|       50|        1|                  []|      1|  null|   0|              Centro|Zona Central|      1300|2679|125000|\n",
            "|40a2cbde-946b-42d...|    2|        47|       47|        1|[Condomínio fecha...|      2|     0|   1|        Campo Grande|  Zona Oeste|       380|null|138000|\n",
            "|be269ddf-a4a3-4a7...|    0|     17089|       45|        1|[Churrasqueira, C...|      2|     0|   1|        Campo Grande|  Zona Oeste|       356|   0|140000|\n",
            "|4b7e3d59-34fd-4ba...|    3|        48|       48|        1|[Churrasqueira, P...|      2|  null|   1|        Campo Grande|  Zona Oeste|         0|   0|150000|\n",
            "|a1a0c2ac-4fa8-4b0...|    9|      null|       55|        1|[Churrasqueira, E...|      2|  null|   1|Freguesia (Jacare...|  Zona Oeste|       780| 660|160000|\n",
            "|390d2b88-e06d-47e...|    0|        70|       70|        2|   [Salão de festas]|      2|     0|   1|          Praça Seca|  Zona Oeste|    420000|null|159000|\n",
            "|07bb07c1-21cc-4da...|    2|        50|       48|        1|[Condomínio fecha...|      1|     0|   0|             Piedade|  Zona Norte|        10|  10|170000|\n",
            "|7d3a1bae-988c-44b...|    5|        40|       40|        1|[Playground, Chur...|      2|     0|   1|        Braz de Pina|  Zona Norte|       150| 120|189000|\n",
            "|47af17f0-1c81-474...|    0|        65|       65|        1|                  []|      2|     0|   1|            Campinho|  Zona Oeste|       432|null|185000|\n",
            "|a9bd1575-e9f2-43d...|    2|        50|       50|        1|[Condomínio fecha...|      1|     0|   1|           Madureira|  Zona Norte|       650|   1|185000|\n",
            "|cfca7253-3d02-4cd...|    5|        45|       45|        1|[Academia, Churra...|      2|     1|   0|             Taquara|  Zona Oeste|       150|  40|199000|\n",
            "|b571ae97-e3d8-4fb...|    0|        48|       48|        1|[Academia, Condom...|      2|  null|   0|          Bonsucesso|  Zona Norte|         0|   0|205933|\n",
            "|eb5fdc65-acae-45f...|    0|        44|       44|        1|[Academia, Condom...|      2|  null|   0|          Bonsucesso|  Zona Norte|         0|   0|206000|\n",
            "|77cd0388-e3ff-40c...|    2|        64|       64|        1|                  []|      2|     0|   0|      Jardim América|  Zona Norte|         0|   0|220000|\n",
            "|74a91f07-7387-4a8...|    0|        55|       55|        2|[Salão de festas,...|      1|     0|   1|        Engenho Novo|  Zona Norte|       600| 652|219130|\n",
            "|6aab1165-508d-455...|    3|        60|       60|        1|[Animais permitidos]|      3|     0|   1|           Cascadura|  Zona Norte|        98|   1|230000|\n",
            "+--------------------+-----+----------+---------+---------+--------------------+-------+------+----+--------------------+------------+----------+----+------+\n",
            "only showing top 20 rows\n",
            "\n"
          ]
        }
      ]
    },
    {
      "cell_type": "markdown",
      "source": [
        "### **Dados nulos**"
      ],
      "metadata": {
        "id": "QlRdQMOWbD2l"
      }
    },
    {
      "cell_type": "code",
      "source": [
        "# Contando dados nulos por coluna\n",
        "\n",
        "\n",
        "dados\\\n",
        "    .select([(f.count(f.when(f.isnull(c), 1))/total_registros*100).alias(c) for c in dados.columns])\\\n",
        "    .show()\n"
      ],
      "metadata": {
        "id": "4R4MV4ETThWu",
        "colab": {
          "base_uri": "https://localhost:8080/"
        },
        "outputId": "258b87c5-f3c2-4450-82f5-7d31ecadbacb"
      },
      "execution_count": 28,
      "outputs": [
        {
          "output_type": "stream",
          "name": "stdout",
          "text": [
            "+---+-----+------------------+---------+---------+---------------+-------+-----------------+------------+------------+--------+----------------+------+----+-----------------+------------------+----+-----+\n",
            "| id|andar|        area_total|area_util|banheiros|caracteristicas|quartos|           suites|tipo_anuncio|tipo_unidade|tipo_uso|            vaga|bairro|zona|       condominio|              iptu|tipo|valor|\n",
            "+---+-----+------------------+---------+---------+---------------+-------+-----------------+------------+------------+--------+----------------+------+----+-----------------+------------------+----+-----+\n",
            "|0.0|  0.0|13.812685916889517|      0.0|      0.0|            0.0|    0.0|8.344100237372674|         0.0|         0.0|     0.0|4.53261620744569|   0.0| 0.0|3.562092485201767|10.815480304077402| 0.0|  0.0|\n",
            "+---+-----+------------------+---------+---------+---------------+-------+-----------------+------------+------------+--------+----------------+------+----+-----------------+------------------+----+-----+\n",
            "\n"
          ]
        }
      ]
    },
    {
      "cell_type": "code",
      "source": [
        "dados.select('area_total', 'area_util').show()"
      ],
      "metadata": {
        "colab": {
          "base_uri": "https://localhost:8080/"
        },
        "id": "qd1HHEP5cUKR",
        "outputId": "bdecb0fd-c543-4a6e-e404-744d00a00c36"
      },
      "execution_count": 46,
      "outputs": [
        {
          "output_type": "stream",
          "name": "stdout",
          "text": [
            "+----------+---------+\n",
            "|area_total|area_util|\n",
            "+----------+---------+\n",
            "|        43|       43|\n",
            "|        44|       44|\n",
            "|      null|       55|\n",
            "|      null|       55|\n",
            "|      null|       50|\n",
            "|        47|       47|\n",
            "|     17089|       45|\n",
            "|        48|       48|\n",
            "|      null|       55|\n",
            "|        70|       70|\n",
            "|        50|       48|\n",
            "|        40|       40|\n",
            "|        65|       65|\n",
            "|        50|       50|\n",
            "|        45|       45|\n",
            "|        48|       48|\n",
            "|        44|       44|\n",
            "|        64|       64|\n",
            "|        55|       55|\n",
            "|        60|       60|\n",
            "+----------+---------+\n",
            "only showing top 20 rows\n",
            "\n"
          ]
        }
      ]
    },
    {
      "cell_type": "markdown",
      "source": [
        "- Por possuírem muitas semelhanças as colunas **área_total** e **área_útil** reproduzem a mesma informação. Como a coluna **área_total** possui mais de 13% de valores nulos, vamos descatá-la."
      ],
      "metadata": {
        "id": "p-jdpF2SlBte"
      }
    },
    {
      "cell_type": "code",
      "source": [
        "dados = dados.drop('area_total')\n",
        "\n",
        "dados.show()"
      ],
      "metadata": {
        "colab": {
          "base_uri": "https://localhost:8080/"
        },
        "id": "V6lDn5zUk_IE",
        "outputId": "ff68a8b4-b848-4c24-92ae-ad69252a6e8a"
      },
      "execution_count": 47,
      "outputs": [
        {
          "output_type": "stream",
          "name": "stdout",
          "text": [
            "+--------------------+-----+---------+---------+--------------------+-------+------+----+--------------------+------------+----------+----+------+\n",
            "|                  id|andar|area_util|banheiros|     caracteristicas|quartos|suites|vaga|              bairro|        zona|condominio|iptu| valor|\n",
            "+--------------------+-----+---------+---------+--------------------+-------+------+----+--------------------+------------+----------+----+------+\n",
            "|03a386b6-7ab8-4ef...|    0|       43|        1|[Churrasqueira, A...|      2|  null|   1|            Realengo|  Zona Oeste|       285|null| 22999|\n",
            "|1fe78d41-b8e0-4d2...|    0|       44|        1|                  []|      2|     0|   0|               Irajá|  Zona Norte|       170|   0|110000|\n",
            "|1fa1c1e5-e98c-433...|    4|       55|        1|                  []|      2|     0|   1|              Cosmos|  Zona Oeste|      null|null|115000|\n",
            "|a6ab01ae-3d40-40e...|    2|       55|        1|                  []|      2|     0|   0|        Tomás Coelho|  Zona Norte|      null|null|115000|\n",
            "|1d8ff7a2-16bd-4e3...|    0|       50|        1|                  []|      1|  null|   0|              Centro|Zona Central|      1300|2679|125000|\n",
            "|40a2cbde-946b-42d...|    2|       47|        1|[Condomínio fecha...|      2|     0|   1|        Campo Grande|  Zona Oeste|       380|null|138000|\n",
            "|be269ddf-a4a3-4a7...|    0|       45|        1|[Churrasqueira, C...|      2|     0|   1|        Campo Grande|  Zona Oeste|       356|   0|140000|\n",
            "|4b7e3d59-34fd-4ba...|    3|       48|        1|[Churrasqueira, P...|      2|  null|   1|        Campo Grande|  Zona Oeste|         0|   0|150000|\n",
            "|a1a0c2ac-4fa8-4b0...|    9|       55|        1|[Churrasqueira, E...|      2|  null|   1|Freguesia (Jacare...|  Zona Oeste|       780| 660|160000|\n",
            "|390d2b88-e06d-47e...|    0|       70|        2|   [Salão de festas]|      2|     0|   1|          Praça Seca|  Zona Oeste|    420000|null|159000|\n",
            "|07bb07c1-21cc-4da...|    2|       48|        1|[Condomínio fecha...|      1|     0|   0|             Piedade|  Zona Norte|        10|  10|170000|\n",
            "|7d3a1bae-988c-44b...|    5|       40|        1|[Playground, Chur...|      2|     0|   1|        Braz de Pina|  Zona Norte|       150| 120|189000|\n",
            "|47af17f0-1c81-474...|    0|       65|        1|                  []|      2|     0|   1|            Campinho|  Zona Oeste|       432|null|185000|\n",
            "|a9bd1575-e9f2-43d...|    2|       50|        1|[Condomínio fecha...|      1|     0|   1|           Madureira|  Zona Norte|       650|   1|185000|\n",
            "|cfca7253-3d02-4cd...|    5|       45|        1|[Academia, Churra...|      2|     1|   0|             Taquara|  Zona Oeste|       150|  40|199000|\n",
            "|b571ae97-e3d8-4fb...|    0|       48|        1|[Academia, Condom...|      2|  null|   0|          Bonsucesso|  Zona Norte|         0|   0|205933|\n",
            "|eb5fdc65-acae-45f...|    0|       44|        1|[Academia, Condom...|      2|  null|   0|          Bonsucesso|  Zona Norte|         0|   0|206000|\n",
            "|77cd0388-e3ff-40c...|    2|       64|        1|                  []|      2|     0|   0|      Jardim América|  Zona Norte|         0|   0|220000|\n",
            "|74a91f07-7387-4a8...|    0|       55|        2|[Salão de festas,...|      1|     0|   1|        Engenho Novo|  Zona Norte|       600| 652|219130|\n",
            "|6aab1165-508d-455...|    3|       60|        1|[Animais permitidos]|      3|     0|   1|           Cascadura|  Zona Norte|        98|   1|230000|\n",
            "+--------------------+-----+---------+---------+--------------------+-------+------+----+--------------------+------------+----------+----+------+\n",
            "only showing top 20 rows\n",
            "\n"
          ]
        }
      ]
    },
    {
      "cell_type": "markdown",
      "source": [
        "### **Convertendo String para Valore Numéricos**"
      ],
      "metadata": {
        "id": "MITjPjfRly25"
      }
    },
    {
      "cell_type": "markdown",
      "source": [
        "- As colunas **andar**, **banheiros**, **suites** e **quartos** devem ser do tipo inteiro\n",
        "- As colunas **area_util**, **valor** e **iptu** devem ser do tipo double"
      ],
      "metadata": {
        "id": "4Wtz-Tfvl8Uj"
      }
    },
    {
      "cell_type": "code",
      "source": [
        "###"
      ],
      "metadata": {
        "id": "YnXGlPt2lmHW"
      },
      "execution_count": null,
      "outputs": []
    }
  ]
}