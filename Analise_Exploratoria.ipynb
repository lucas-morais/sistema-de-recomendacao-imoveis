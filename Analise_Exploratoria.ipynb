{
  "nbformat": 4,
  "nbformat_minor": 0,
  "metadata": {
    "colab": {
      "provenance": [],
      "authorship_tag": "ABX9TyPxoQ0enHHoL4/Fdkzrw/8P",
      "include_colab_link": true
    },
    "kernelspec": {
      "name": "python3",
      "display_name": "Python 3"
    },
    "language_info": {
      "name": "python"
    }
  },
  "cells": [
    {
      "cell_type": "markdown",
      "metadata": {
        "id": "view-in-github",
        "colab_type": "text"
      },
      "source": [
        "<a href=\"https://colab.research.google.com/github/lucas-morais/sistema-de-recomendacao-imoveis/blob/semana1/Analise_Exploratoria.ipynb\" target=\"_parent\"><img src=\"https://colab.research.google.com/assets/colab-badge.svg\" alt=\"Open In Colab\"/></a>"
      ]
    },
    {
      "cell_type": "markdown",
      "source": [
        "# **Análise de Preços de Imóveis**"
      ],
      "metadata": {
        "id": "cHsVTmVlR6Ot"
      }
    },
    {
      "cell_type": "markdown",
      "source": [
        "Análise exploaratóras de dados de Imóveis na cidade do Rio de Janeiro do banco de dados da ***InsightPlace***"
      ],
      "metadata": {
        "id": "fOUifHEDSgSp"
      }
    },
    {
      "cell_type": "markdown",
      "source": [
        "## **Dicionário de Dados**"
      ],
      "metadata": {
        "id": "Ppgl_ct1S-UY"
      }
    },
    {
      "cell_type": "markdown",
      "source": [
        "\n",
        "[Base de dados - InsightPlaces](https://caelum-online-public.s3.amazonaws.com/challenge-spark/semana-1.zip)\n",
        "\n",
        "### Dicionário de Dados - Anuncio\n",
        "\n",
        "| Colunas         |Descrição                                                      |\n",
        "|-----------------|----------------------------------------------------------------|\n",
        "| id              | Código de identificação do anúncio no sistema da InsightPlaces |\n",
        "| tipo_unidade    | Tipo de imóvel (apartamento, casa e outros)                    |\n",
        "| tipo_uso        | Tipo de uso do imóvel (residencial ou comercial)               |\n",
        "| area_total      | Área total do imóvel (construção e terreno)                    |\n",
        "| area_util       | Área construída do imóvel                                      |\n",
        "| quartos         | Quantidade de quartos do imóvel                                |\n",
        "| suites          | Quantidade de suítes do imóvel                                 |\n",
        "| banheiros       | Quantidade de banheiros do imóvel                              |\n",
        "| vaga            | Quantidade de vagas de garagem do imóvel                       |\n",
        "| caracteristicas | Listagem de características do imóvel                          |\n",
        "| andar           | Número do andar do imóvel                                      |\n",
        "| endereco        | Informações sobre o endereço do imóvel                         |\n",
        "| valores         | Informações sobre valores de venda e locação dos imóveis       |"
      ],
      "metadata": {
        "id": "GsO_ieLSTNKE"
      }
    },
    {
      "cell_type": "markdown",
      "source": [
        "## **Preparando o ambiente**"
      ],
      "metadata": {
        "id": "Qqq8-XEfTh-u"
      }
    },
    {
      "cell_type": "markdown",
      "source": [
        "###**Instalando Dependências**"
      ],
      "metadata": {
        "id": "H3DVohz2TqKA"
      }
    },
    {
      "cell_type": "code",
      "execution_count": 1,
      "metadata": {
        "colab": {
          "base_uri": "https://localhost:8080/"
        },
        "id": "QCuxV19vRvoC",
        "outputId": "acdd9f82-a0e7-4ada-b8ba-2730e270f754"
      },
      "outputs": [
        {
          "output_type": "stream",
          "name": "stdout",
          "text": [
            "\u001b[K     |████████████████████████████████| 281.4 MB 39 kB/s \n",
            "\u001b[K     |████████████████████████████████| 199 kB 46.0 MB/s \n",
            "\u001b[?25h  Building wheel for pyspark (setup.py) ... \u001b[?25l\u001b[?25hdone\n"
          ]
        }
      ],
      "source": [
        "!pip install pyspark -q"
      ]
    },
    {
      "cell_type": "markdown",
      "source": [
        "###**Criando Sessão do Spark**"
      ],
      "metadata": {
        "id": "euxiHJXkT55Y"
      }
    },
    {
      "cell_type": "code",
      "source": [
        "from pyspark.sql import SparkSession\n",
        "\n",
        "\n",
        "spark = SparkSession\\\n",
        "    .builder\\\n",
        "    .master('local[*]')\\\n",
        "    .appName('analise-exploratoria')\\\n",
        "    .getOrCreate()\n",
        "\n",
        "spark"
      ],
      "metadata": {
        "colab": {
          "base_uri": "https://localhost:8080/",
          "height": 219
        },
        "id": "CsBOqLk-T1kp",
        "outputId": "859f3dbd-460b-42ec-ef7e-540eb9e2ea61"
      },
      "execution_count": 2,
      "outputs": [
        {
          "output_type": "execute_result",
          "data": {
            "text/plain": [
              "<pyspark.sql.session.SparkSession at 0x7fc6bd86f160>"
            ],
            "text/html": [
              "\n",
              "            <div>\n",
              "                <p><b>SparkSession - in-memory</b></p>\n",
              "                \n",
              "        <div>\n",
              "            <p><b>SparkContext</b></p>\n",
              "\n",
              "            <p><a href=\"http://cc9247f42869:4040\">Spark UI</a></p>\n",
              "\n",
              "            <dl>\n",
              "              <dt>Version</dt>\n",
              "                <dd><code>v3.3.1</code></dd>\n",
              "              <dt>Master</dt>\n",
              "                <dd><code>local[*]</code></dd>\n",
              "              <dt>AppName</dt>\n",
              "                <dd><code>analise-exploratoria</code></dd>\n",
              "            </dl>\n",
              "        </div>\n",
              "        \n",
              "            </div>\n",
              "        "
            ]
          },
          "metadata": {},
          "execution_count": 2
        }
      ]
    },
    {
      "cell_type": "markdown",
      "source": [
        "##**Preparando Dados**"
      ],
      "metadata": {
        "id": "qDmMdQHxT4CY"
      }
    },
    {
      "cell_type": "markdown",
      "source": [
        "###**Carregando Dados**"
      ],
      "metadata": {
        "id": "ncEricufUpWe"
      }
    },
    {
      "cell_type": "code",
      "source": [
        "# Buscando dados\n",
        "!wget -q \"https://caelum-online-public.s3.amazonaws.com/challenge-spark/semana-1.zip\"\n",
        "\n",
        "!unzip -q semana-1.zip "
      ],
      "metadata": {
        "colab": {
          "base_uri": "https://localhost:8080/"
        },
        "id": "EmbMMBGyUpKB",
        "outputId": "52c84101-4866-40e7-81fe-aea3836779ea"
      },
      "execution_count": 75,
      "outputs": [
        {
          "output_type": "stream",
          "name": "stdout",
          "text": [
            "replace dataset_bruto.json? [y]es, [n]o, [A]ll, [N]one, [r]ename: n\n"
          ]
        }
      ]
    },
    {
      "cell_type": "code",
      "source": [
        "# Lendo dados em dataframe spark\n",
        "\n",
        "df = spark.read.json(\"dataset_bruto.json\")\n",
        "\n",
        "df.show()"
      ],
      "metadata": {
        "colab": {
          "base_uri": "https://localhost:8080/"
        },
        "id": "4Wh8XmY3UnLe",
        "outputId": "f618a187-a703-431d-c912-ae54768b8ab1"
      },
      "execution_count": 138,
      "outputs": [
        {
          "output_type": "stream",
          "name": "stdout",
          "text": [
            "+--------------------+--------------------+--------------------+\n",
            "|             anuncio|             imagens|             usuario|\n",
            "+--------------------+--------------------+--------------------+\n",
            "|{0, [], [16], [0]...|[{39d6282a-71f3-4...|{9d44563d-3405-4e...|\n",
            "|{0, [], [14], [0]...|[{23d2b3ab-45b0-4...|{36245be7-70fe-40...|\n",
            "|{0, [1026], [1026...|[{1da65baa-368b-4...|{9dc415d8-1397-4d...|\n",
            "|{0, [120], [120],...|[{79b542c6-49b4-4...|{9911a2df-f299-4a...|\n",
            "|{0, [3], [3], [0]...|[{e2bc497b-6510-4...|{240a7aab-12e5-40...|\n",
            "|{0, [20], [15], [...|[{2de09d46-dc0d-4...|{3c7057f5-0923-42...|\n",
            "|{3, [43], [43], [...|[{147a80d9-cd40-4...|{5a9736b5-aaa0-4a...|\n",
            "|{2, [42], [42], [...|[{35740004-063d-4...|{ec48d96a-137c-49...|\n",
            "|{0, [], [12], [0]...|[{6d3d2aec-c96f-4...|{dad7db63-e19c-44...|\n",
            "|{1, [41], [41], [...|[{3d404069-418e-4...|{a845f35f-3ab3-46...|\n",
            "|{3, [43], [43], [...|[{5b8a8de7-2088-4...|{8c8de313-45d5-4c...|\n",
            "|{0, [10], [4], [0...|[{5385da42-8276-4...|{0b1d4ee0-2bc3-4c...|\n",
            "|{0, [12], [12], [...|[{7e4c2d03-1188-4...|{d744ac23-f16e-44...|\n",
            "|{0, [17], [17], [...|[{db608e30-f3e0-4...|{edc3fcf6-4441-40...|\n",
            "|{1, [32], [32], [...|[{318d4e40-f759-4...|{84dfa72e-10dd-48...|\n",
            "|{0, [], [10], [0]...|[{9e39e46f-59f8-4...|{fc1d2b73-9d29-4c...|\n",
            "|{2, [43], [43], [...|[{3fe1c1cc-7a9c-4...|{7f2de69f-68f8-40...|\n",
            "|{3, [43], [43], [...|[{fd04f07d-cfdf-4...|{12ce772e-4aac-46...|\n",
            "|{3, [43], [43], [...|[{76f97b59-a61b-4...|{cc17fc2c-6be2-4e...|\n",
            "|{3, [43], [43], [...|[{95d9678e-491f-4...|{286649de-3099-4c...|\n",
            "+--------------------+--------------------+--------------------+\n",
            "only showing top 20 rows\n",
            "\n"
          ]
        }
      ]
    },
    {
      "cell_type": "code",
      "source": [
        "df.printSchema()"
      ],
      "metadata": {
        "colab": {
          "base_uri": "https://localhost:8080/"
        },
        "id": "o2TadcKnYT65",
        "outputId": "7396df77-ed7a-42e3-f49a-8675dcf6cb1b"
      },
      "execution_count": 139,
      "outputs": [
        {
          "output_type": "stream",
          "name": "stdout",
          "text": [
            "root\n",
            " |-- anuncio: struct (nullable = true)\n",
            " |    |-- andar: long (nullable = true)\n",
            " |    |-- area_total: array (nullable = true)\n",
            " |    |    |-- element: string (containsNull = true)\n",
            " |    |-- area_util: array (nullable = true)\n",
            " |    |    |-- element: string (containsNull = true)\n",
            " |    |-- banheiros: array (nullable = true)\n",
            " |    |    |-- element: long (containsNull = true)\n",
            " |    |-- caracteristicas: array (nullable = true)\n",
            " |    |    |-- element: string (containsNull = true)\n",
            " |    |-- endereco: struct (nullable = true)\n",
            " |    |    |-- bairro: string (nullable = true)\n",
            " |    |    |-- cep: string (nullable = true)\n",
            " |    |    |-- cidade: string (nullable = true)\n",
            " |    |    |-- estado: string (nullable = true)\n",
            " |    |    |-- latitude: double (nullable = true)\n",
            " |    |    |-- longitude: double (nullable = true)\n",
            " |    |    |-- pais: string (nullable = true)\n",
            " |    |    |-- rua: string (nullable = true)\n",
            " |    |    |-- zona: string (nullable = true)\n",
            " |    |-- id: string (nullable = true)\n",
            " |    |-- quartos: array (nullable = true)\n",
            " |    |    |-- element: long (containsNull = true)\n",
            " |    |-- suites: array (nullable = true)\n",
            " |    |    |-- element: long (containsNull = true)\n",
            " |    |-- tipo_anuncio: string (nullable = true)\n",
            " |    |-- tipo_unidade: string (nullable = true)\n",
            " |    |-- tipo_uso: string (nullable = true)\n",
            " |    |-- vaga: array (nullable = true)\n",
            " |    |    |-- element: long (containsNull = true)\n",
            " |    |-- valores: array (nullable = true)\n",
            " |    |    |-- element: struct (containsNull = true)\n",
            " |    |    |    |-- condominio: string (nullable = true)\n",
            " |    |    |    |-- iptu: string (nullable = true)\n",
            " |    |    |    |-- tipo: string (nullable = true)\n",
            " |    |    |    |-- valor: string (nullable = true)\n",
            " |-- imagens: array (nullable = true)\n",
            " |    |-- element: struct (containsNull = true)\n",
            " |    |    |-- id: string (nullable = true)\n",
            " |    |    |-- url: string (nullable = true)\n",
            " |-- usuario: struct (nullable = true)\n",
            " |    |-- id: string (nullable = true)\n",
            " |    |-- nome: string (nullable = true)\n",
            "\n"
          ]
        }
      ]
    },
    {
      "cell_type": "markdown",
      "source": [
        "## **Análise Exploratória**"
      ],
      "metadata": {
        "id": "6Z6Y334WZguq"
      }
    },
    {
      "cell_type": "markdown",
      "source": [
        "### **Analisando Estrutura de Dados**"
      ],
      "metadata": {
        "id": "Nc4jttx-ZmkQ"
      }
    },
    {
      "cell_type": "markdown",
      "source": [
        "####**Separando Colnua de  Anúncios**\n",
        "\n",
        "- Apenas a coluna de anúncios fará parte da análise inicial"
      ],
      "metadata": {
        "id": "TG8igUNqa5p8"
      }
    },
    {
      "cell_type": "code",
      "source": [
        "df_anuncio = df.select(\"anuncio.*\")\n",
        "df_anuncio.show()"
      ],
      "metadata": {
        "colab": {
          "base_uri": "https://localhost:8080/"
        },
        "id": "8Uql-N3JYg_O",
        "outputId": "26563842-1e76-445e-c30d-a3f61c8d7b93"
      },
      "execution_count": 140,
      "outputs": [
        {
          "output_type": "stream",
          "name": "stdout",
          "text": [
            "+-----+----------+---------+---------+--------------------+--------------------+--------------------+-------+------+------------+------------+-----------+----+--------------------+\n",
            "|andar|area_total|area_util|banheiros|     caracteristicas|            endereco|                  id|quartos|suites|tipo_anuncio|tipo_unidade|   tipo_uso|vaga|             valores|\n",
            "+-----+----------+---------+---------+--------------------+--------------------+--------------------+-------+------+------------+------------+-----------+----+--------------------+\n",
            "|    0|        []|     [16]|      [0]|                  []|{Centro, 20061003...|47d553e0-79f2-4a4...|    [0]|   [0]|       Usado|      Outros|  Comercial| [1]|[{260, 107, Venda...|\n",
            "|    0|        []|     [14]|      [0]|                  []|{Centro, 20051040...|b6ffbae1-17f6-487...|    [0]|    []|       Usado|      Outros|  Comercial| [0]|[{260, 107, Venda...|\n",
            "|    0|    [1026]|   [1026]|      [0]|                  []|{Maria da Graça, ...|1fb030a5-9e3e-4a1...|    [0]|    []|       Usado|      Outros|  Comercial| [0]|[{null, 1613, Ven...|\n",
            "|    0|     [120]|    [120]|      [0]|[Portão eletrônic...|{Campo Grande, 23...|ac6cb348-69d6-45a...|    [0]|    []|       Usado|      Outros|Residencial|  []|[{80, null, Venda...|\n",
            "|    0|       [3]|      [3]|      [0]|                  []|{São Cristóvão, 2...|e032b908-ef42-4d4...|    [0]|    []|       Usado|      Outros|Residencial|  []|[{0, 0, Venda, 50...|\n",
            "|    0|      [20]|     [15]|      [1]|                  []|{Centro, 20231047...|df9cf0b8-b972-433...|    [0]|    []|       Usado|      Outros|  Comercial| [1]|[{223, 87, Venda,...|\n",
            "|    3|      [43]|     [43]|      [1]|[Academia, Churra...|{Paciência, 23585...|d2e3a3aa-09b5-45a...|    [2]|    []|       Usado| Apartamento|Residencial| [1]|[{245, null, Vend...|\n",
            "|    2|      [42]|     [42]|      [1]|[Churrasqueira, P...|{Paciência, 23585...|085bab2c-87ad-452...|    [2]|    []|       Usado| Apartamento|Residencial| [1]|[{0, 0, Venda, 15...|\n",
            "|    0|        []|     [12]|      [0]|[Portaria 24h, El...|{Centro, 20231047...|096ad966-dc36-47b...|    [0]|    []|       Usado|      Outros|  Comercial| [1]|[{250, null, Vend...|\n",
            "|    1|      [41]|     [41]|      [1]|[Portaria 24h, Co...|{Guaratiba, 23036...|18d22cbe-1b86-476...|    [2]|    []|       Usado| Apartamento|Residencial| [1]|[{0, 0, Venda, 20...|\n",
            "|    3|      [43]|     [43]|      [1]|[Churrasqueira, P...|{Cosmos, 23066271...|bed8a354-9317-442...|    [2]|    []|       Usado| Apartamento|Residencial| [0]|[{285, null, Vend...|\n",
            "|    0|      [10]|      [4]|      [0]|[Elevador, Portar...|{Centro, 20080021...|b7d0fbd3-0b28-420...|    [0]|    []|       Usado|      Outros|  Comercial| [0]|[{200, 86, Venda,...|\n",
            "|    0|      [12]|     [12]|      [1]|      [Portaria 24h]|{Copacabana, 2202...|c6571c11-166e-4a4...|    [0]|    []|       Usado|      Outros|  Comercial|  []|[{470, null, Vend...|\n",
            "|    0|      [17]|     [17]|      [0]|          [Elevador]|{Centro, 20070021...|46d5b560-205f-45f...|    [0]|    []|       Usado|      Outros|  Comercial| [1]|[{294, 98, Venda,...|\n",
            "|    1|      [32]|     [32]|       []|[Elevador, Condom...|{Centro, 20090020...|db197997-00e6-4d6...|     []|    []|       Usado|      Outros|  Comercial| [1]|[{684, null, Vend...|\n",
            "|    0|        []|     [10]|      [0]|[Elevador, Condom...|{Saúde, 20080040,...|835d4338-4aa9-4e4...|    [0]|    []|       Usado|      Outros|  Comercial|  []|[{0, 120, Venda, ...|\n",
            "|    2|      [43]|     [43]|      [1]|[Academia, Churra...|{Guaratiba, 23036...|12a13315-d67f-48f...|    [2]|    []|       Usado| Apartamento|Residencial| [1]|[{245, null, Vend...|\n",
            "|    3|      [43]|     [43]|      [1]|[Churrasqueira, P...|{Cosmos, 23066271...|a2e6d7a5-0ff0-484...|    [2]|   [0]|       Usado| Apartamento|Residencial| [0]|[{285, null, Vend...|\n",
            "|    3|      [43]|     [43]|      [1]|[Churrasqueira, P...|{Paciência, 23585...|a6e3173b-c950-4db...|    [2]|    []|       Usado| Apartamento|Residencial| [1]|[{250, null, Vend...|\n",
            "|    3|      [43]|     [43]|      [1]|[Churrasqueira, P...|{Guaratiba, 23036...|2e6e5dfb-206c-496...|    [2]|   [0]|       Usado| Apartamento|Residencial| [1]|[{245, null, Vend...|\n",
            "+-----+----------+---------+---------+--------------------+--------------------+--------------------+-------+------+------------+------------+-----------+----+--------------------+\n",
            "only showing top 20 rows\n",
            "\n"
          ]
        }
      ]
    },
    {
      "cell_type": "code",
      "source": [
        "print(f'Qauntidade de linhas: {df_anuncio.count()}')\n",
        "print(f'Quantidade de colunas: {len(df_anuncio.columns)}')"
      ],
      "metadata": {
        "colab": {
          "base_uri": "https://localhost:8080/"
        },
        "id": "ZpjBoBRDZtTM",
        "outputId": "cd46e73f-f60e-4d2d-cb18-5606e2bbb836"
      },
      "execution_count": 141,
      "outputs": [
        {
          "output_type": "stream",
          "name": "stdout",
          "text": [
            "Qauntidade de linhas: 89083\n",
            "Quantidade de colunas: 14\n"
          ]
        }
      ]
    },
    {
      "cell_type": "markdown",
      "source": [
        "####**Analisando Variável 'tipo_uso'**"
      ],
      "metadata": {
        "id": "U2x1VJMSb4OK"
      }
    },
    {
      "cell_type": "code",
      "source": [
        "df_anuncio.groupBy('tipo_uso').count().withColumnRenamed('count', 'Total').show()"
      ],
      "metadata": {
        "colab": {
          "base_uri": "https://localhost:8080/"
        },
        "id": "a2yoeCpibiei",
        "outputId": "9e8fb4d1-2885-41d2-db61-e7bc07281956"
      },
      "execution_count": 142,
      "outputs": [
        {
          "output_type": "stream",
          "name": "stdout",
          "text": [
            "+-----------+-----+\n",
            "|   tipo_uso|Total|\n",
            "+-----------+-----+\n",
            "|  Comercial| 4542|\n",
            "|Residencial|84541|\n",
            "+-----------+-----+\n",
            "\n"
          ]
        }
      ]
    },
    {
      "cell_type": "code",
      "source": [
        "from pyspark.sql import functions as f\n",
        "\n",
        "df_anuncio\\\n",
        "    .groupBy('tipo_uso')\\\n",
        "    .count()\\\n",
        "    .withColumn('Freq', f.col('count')/df_anuncio.count())\\\n",
        "    .show()"
      ],
      "metadata": {
        "colab": {
          "base_uri": "https://localhost:8080/"
        },
        "id": "K2T24ChjcKtx",
        "outputId": "0de85993-a587-4d7b-b481-96dac30994c7"
      },
      "execution_count": 143,
      "outputs": [
        {
          "output_type": "stream",
          "name": "stdout",
          "text": [
            "+-----------+-----+--------------------+\n",
            "|   tipo_uso|count|                Freq|\n",
            "+-----------+-----+--------------------+\n",
            "|  Comercial| 4542|0.050986158975337606|\n",
            "|Residencial|84541|  0.9490138410246624|\n",
            "+-----------+-----+--------------------+\n",
            "\n"
          ]
        }
      ]
    },
    {
      "cell_type": "markdown",
      "source": [
        "O tipo de uso **Residencial** representa aproximadamente 95% dos dados.\n",
        "\n"
      ],
      "metadata": {
        "id": "EbDffhQRenXW"
      }
    },
    {
      "cell_type": "markdown",
      "source": [
        "####**Analisando Variável 'tipo_unidade'**\n",
        "\n"
      ],
      "metadata": {
        "id": "Q2pcFcPme5OL"
      }
    },
    {
      "cell_type": "code",
      "source": [
        "df_anuncio.groupBy('tipo_unidade').count().withColumnRenamed('count', 'Total').show()"
      ],
      "metadata": {
        "colab": {
          "base_uri": "https://localhost:8080/"
        },
        "id": "6QppTsfgcouK",
        "outputId": "c24f0a2f-ce33-47c6-bef4-da277ffbb060"
      },
      "execution_count": 144,
      "outputs": [
        {
          "output_type": "stream",
          "name": "stdout",
          "text": [
            "+------------+-----+\n",
            "|tipo_unidade|Total|\n",
            "+------------+-----+\n",
            "|      Outros|11963|\n",
            "| Apartamento|66801|\n",
            "|        Casa|10319|\n",
            "+------------+-----+\n",
            "\n"
          ]
        }
      ]
    },
    {
      "cell_type": "code",
      "source": [
        "df_anuncio\\\n",
        "    .groupBy('tipo_unidade')\\\n",
        "    .count()\\\n",
        "    .withColumn('Freq', f.col('count')/df_anuncio.count())\\\n",
        "    .show()"
      ],
      "metadata": {
        "colab": {
          "base_uri": "https://localhost:8080/"
        },
        "id": "E_jvpsWAfCub",
        "outputId": "d70650fc-be40-4a74-d462-11b2730f90d2"
      },
      "execution_count": 145,
      "outputs": [
        {
          "output_type": "stream",
          "name": "stdout",
          "text": [
            "+------------+-----+------------------+\n",
            "|tipo_unidade|count|              Freq|\n",
            "+------------+-----+------------------+\n",
            "|      Outros|11963|0.1342904931356151|\n",
            "| Apartamento|66801|0.7498737132786278|\n",
            "|        Casa|10319|0.1158357935857571|\n",
            "+------------+-----+------------------+\n",
            "\n"
          ]
        }
      ]
    },
    {
      "cell_type": "markdown",
      "source": [
        "O tipo de unidade **Apartamento** representa aproximadamente 75% dos dados.\n"
      ],
      "metadata": {
        "id": "_51jHJ5efXju"
      }
    },
    {
      "cell_type": "markdown",
      "source": [
        "####**Analisando Variável 'tipo_anuncio'**\n"
      ],
      "metadata": {
        "id": "WHuf6s2HfgpO"
      }
    },
    {
      "cell_type": "code",
      "source": [
        "df_anuncio.groupBy('tipo_anuncio').count().withColumnRenamed('count', 'Total').show()"
      ],
      "metadata": {
        "colab": {
          "base_uri": "https://localhost:8080/"
        },
        "id": "6J-lMS0_fOQT",
        "outputId": "0f7fc362-3766-4b2e-bb21-a6bf87731649"
      },
      "execution_count": 146,
      "outputs": [
        {
          "output_type": "stream",
          "name": "stdout",
          "text": [
            "+------------+-----+\n",
            "|tipo_anuncio|Total|\n",
            "+------------+-----+\n",
            "|       Usado|88827|\n",
            "|  Lançamento|  256|\n",
            "+------------+-----+\n",
            "\n"
          ]
        }
      ]
    },
    {
      "cell_type": "code",
      "source": [
        "df_anuncio\\\n",
        "    .groupBy('tipo_anuncio')\\\n",
        "    .count()\\\n",
        "    .withColumn('Freq', f.col('count')/df_anuncio.count())\\\n",
        "    .show()"
      ],
      "metadata": {
        "colab": {
          "base_uri": "https://localhost:8080/"
        },
        "id": "rQssRJa1fu8T",
        "outputId": "50b846f8-f95d-46ce-b747-1df15c0dde86"
      },
      "execution_count": 147,
      "outputs": [
        {
          "output_type": "stream",
          "name": "stdout",
          "text": [
            "+------------+-----+--------------------+\n",
            "|tipo_anuncio|count|                Freq|\n",
            "+------------+-----+--------------------+\n",
            "|       Usado|88827|  0.9971262754958858|\n",
            "|  Lançamento|  256|0.002873724504114141|\n",
            "+------------+-----+--------------------+\n",
            "\n"
          ]
        }
      ]
    },
    {
      "cell_type": "markdown",
      "source": [
        "O tipo anúncio **Usado** representa aproximadamente 99.7% dos dados"
      ],
      "metadata": {
        "id": "DfwMW9_2f71T"
      }
    },
    {
      "cell_type": "markdown",
      "source": [
        "####**Transformando colunas do tipo array para inteiros**"
      ],
      "metadata": {
        "id": "We7wWOUypuMN"
      }
    },
    {
      "cell_type": "code",
      "source": [
        "df_anuncio.printSchema()"
      ],
      "metadata": {
        "colab": {
          "base_uri": "https://localhost:8080/"
        },
        "id": "pTFRITU9gRpw",
        "outputId": "066d5962-acef-4a3d-ec1c-ab556fb47466"
      },
      "execution_count": 148,
      "outputs": [
        {
          "output_type": "stream",
          "name": "stdout",
          "text": [
            "root\n",
            " |-- andar: long (nullable = true)\n",
            " |-- area_total: array (nullable = true)\n",
            " |    |-- element: string (containsNull = true)\n",
            " |-- area_util: array (nullable = true)\n",
            " |    |-- element: string (containsNull = true)\n",
            " |-- banheiros: array (nullable = true)\n",
            " |    |-- element: long (containsNull = true)\n",
            " |-- caracteristicas: array (nullable = true)\n",
            " |    |-- element: string (containsNull = true)\n",
            " |-- endereco: struct (nullable = true)\n",
            " |    |-- bairro: string (nullable = true)\n",
            " |    |-- cep: string (nullable = true)\n",
            " |    |-- cidade: string (nullable = true)\n",
            " |    |-- estado: string (nullable = true)\n",
            " |    |-- latitude: double (nullable = true)\n",
            " |    |-- longitude: double (nullable = true)\n",
            " |    |-- pais: string (nullable = true)\n",
            " |    |-- rua: string (nullable = true)\n",
            " |    |-- zona: string (nullable = true)\n",
            " |-- id: string (nullable = true)\n",
            " |-- quartos: array (nullable = true)\n",
            " |    |-- element: long (containsNull = true)\n",
            " |-- suites: array (nullable = true)\n",
            " |    |-- element: long (containsNull = true)\n",
            " |-- tipo_anuncio: string (nullable = true)\n",
            " |-- tipo_unidade: string (nullable = true)\n",
            " |-- tipo_uso: string (nullable = true)\n",
            " |-- vaga: array (nullable = true)\n",
            " |    |-- element: long (containsNull = true)\n",
            " |-- valores: array (nullable = true)\n",
            " |    |-- element: struct (containsNull = true)\n",
            " |    |    |-- condominio: string (nullable = true)\n",
            " |    |    |-- iptu: string (nullable = true)\n",
            " |    |    |-- tipo: string (nullable = true)\n",
            " |    |    |-- valor: string (nullable = true)\n",
            "\n"
          ]
        }
      ]
    },
    {
      "cell_type": "code",
      "source": [
        "from pyspark.sql.types import IntegerType"
      ],
      "metadata": {
        "id": "1E8AnXvEtHV5"
      },
      "execution_count": 149,
      "outputs": []
    },
    {
      "cell_type": "code",
      "source": [
        "# Cria função para converter arrays em inteiros\n",
        "def cast_array_column(array):\n",
        "    if len(array) and (array[0] != None):\n",
        "        return int(array[0])\n",
        "    return None"
      ],
      "metadata": {
        "id": "tJz6RNO3rfxH"
      },
      "execution_count": 150,
      "outputs": []
    },
    {
      "cell_type": "code",
      "source": [
        "# Cria udf\n",
        "cast_array_udf = f.udf(lambda x: cast_array_column(x), IntegerType())"
      ],
      "metadata": {
        "id": "HZd-7MMJsLFg"
      },
      "execution_count": 151,
      "outputs": []
    },
    {
      "cell_type": "code",
      "source": [
        "# Separando colunas\n",
        "colunas_array_long = [\n",
        "    'banheiros',\n",
        "    'suites',\n",
        "    'quartos',\n",
        "    'vaga'\n",
        "]\n",
        "\n",
        "colunas_array_string = [\n",
        "    'area_total',\n",
        "    'area_util'\n",
        "]"
      ],
      "metadata": {
        "id": "8I9cSyrxf5li"
      },
      "execution_count": 152,
      "outputs": []
    },
    {
      "cell_type": "code",
      "source": [
        "for c in colunas_array_long + colunas_array_string:\n",
        "    df_anuncio = df_anuncio.withColumn(c, cast_array_udf(c))"
      ],
      "metadata": {
        "id": "-NwTsMDnrW0F"
      },
      "execution_count": 153,
      "outputs": []
    },
    {
      "cell_type": "code",
      "source": [
        "df_anuncio.show()"
      ],
      "metadata": {
        "colab": {
          "base_uri": "https://localhost:8080/"
        },
        "id": "nnWtVI2zuchF",
        "outputId": "060159fa-f2bb-4c7b-d07d-0fb2144865f8"
      },
      "execution_count": 154,
      "outputs": [
        {
          "output_type": "stream",
          "name": "stdout",
          "text": [
            "+-----+----------+---------+---------+--------------------+--------------------+--------------------+-------+------+------------+------------+-----------+----+--------------------+\n",
            "|andar|area_total|area_util|banheiros|     caracteristicas|            endereco|                  id|quartos|suites|tipo_anuncio|tipo_unidade|   tipo_uso|vaga|             valores|\n",
            "+-----+----------+---------+---------+--------------------+--------------------+--------------------+-------+------+------------+------------+-----------+----+--------------------+\n",
            "|    0|      null|       16|        0|                  []|{Centro, 20061003...|47d553e0-79f2-4a4...|      0|     0|       Usado|      Outros|  Comercial|   1|[{260, 107, Venda...|\n",
            "|    0|      null|       14|        0|                  []|{Centro, 20051040...|b6ffbae1-17f6-487...|      0|  null|       Usado|      Outros|  Comercial|   0|[{260, 107, Venda...|\n",
            "|    0|      1026|     1026|        0|                  []|{Maria da Graça, ...|1fb030a5-9e3e-4a1...|      0|  null|       Usado|      Outros|  Comercial|   0|[{null, 1613, Ven...|\n",
            "|    0|       120|      120|        0|[Portão eletrônic...|{Campo Grande, 23...|ac6cb348-69d6-45a...|      0|  null|       Usado|      Outros|Residencial|null|[{80, null, Venda...|\n",
            "|    0|         3|        3|        0|                  []|{São Cristóvão, 2...|e032b908-ef42-4d4...|      0|  null|       Usado|      Outros|Residencial|null|[{0, 0, Venda, 50...|\n",
            "|    0|        20|       15|        1|                  []|{Centro, 20231047...|df9cf0b8-b972-433...|      0|  null|       Usado|      Outros|  Comercial|   1|[{223, 87, Venda,...|\n",
            "|    3|        43|       43|        1|[Academia, Churra...|{Paciência, 23585...|d2e3a3aa-09b5-45a...|      2|  null|       Usado| Apartamento|Residencial|   1|[{245, null, Vend...|\n",
            "|    2|        42|       42|        1|[Churrasqueira, P...|{Paciência, 23585...|085bab2c-87ad-452...|      2|  null|       Usado| Apartamento|Residencial|   1|[{0, 0, Venda, 15...|\n",
            "|    0|      null|       12|        0|[Portaria 24h, El...|{Centro, 20231047...|096ad966-dc36-47b...|      0|  null|       Usado|      Outros|  Comercial|   1|[{250, null, Vend...|\n",
            "|    1|        41|       41|        1|[Portaria 24h, Co...|{Guaratiba, 23036...|18d22cbe-1b86-476...|      2|  null|       Usado| Apartamento|Residencial|   1|[{0, 0, Venda, 20...|\n",
            "|    3|        43|       43|        1|[Churrasqueira, P...|{Cosmos, 23066271...|bed8a354-9317-442...|      2|  null|       Usado| Apartamento|Residencial|   0|[{285, null, Vend...|\n",
            "|    0|        10|        4|        0|[Elevador, Portar...|{Centro, 20080021...|b7d0fbd3-0b28-420...|      0|  null|       Usado|      Outros|  Comercial|   0|[{200, 86, Venda,...|\n",
            "|    0|        12|       12|        1|      [Portaria 24h]|{Copacabana, 2202...|c6571c11-166e-4a4...|      0|  null|       Usado|      Outros|  Comercial|null|[{470, null, Vend...|\n",
            "|    0|        17|       17|        0|          [Elevador]|{Centro, 20070021...|46d5b560-205f-45f...|      0|  null|       Usado|      Outros|  Comercial|   1|[{294, 98, Venda,...|\n",
            "|    1|        32|       32|     null|[Elevador, Condom...|{Centro, 20090020...|db197997-00e6-4d6...|   null|  null|       Usado|      Outros|  Comercial|   1|[{684, null, Vend...|\n",
            "|    0|      null|       10|        0|[Elevador, Condom...|{Saúde, 20080040,...|835d4338-4aa9-4e4...|      0|  null|       Usado|      Outros|  Comercial|null|[{0, 120, Venda, ...|\n",
            "|    2|        43|       43|        1|[Academia, Churra...|{Guaratiba, 23036...|12a13315-d67f-48f...|      2|  null|       Usado| Apartamento|Residencial|   1|[{245, null, Vend...|\n",
            "|    3|        43|       43|        1|[Churrasqueira, P...|{Cosmos, 23066271...|a2e6d7a5-0ff0-484...|      2|     0|       Usado| Apartamento|Residencial|   0|[{285, null, Vend...|\n",
            "|    3|        43|       43|        1|[Churrasqueira, P...|{Paciência, 23585...|a6e3173b-c950-4db...|      2|  null|       Usado| Apartamento|Residencial|   1|[{250, null, Vend...|\n",
            "|    3|        43|       43|        1|[Churrasqueira, P...|{Guaratiba, 23036...|2e6e5dfb-206c-496...|      2|     0|       Usado| Apartamento|Residencial|   1|[{245, null, Vend...|\n",
            "+-----+----------+---------+---------+--------------------+--------------------+--------------------+-------+------+------------+------------+-----------+----+--------------------+\n",
            "only showing top 20 rows\n",
            "\n"
          ]
        }
      ]
    },
    {
      "cell_type": "code",
      "source": [
        "df_anuncio.printSchema()"
      ],
      "metadata": {
        "colab": {
          "base_uri": "https://localhost:8080/"
        },
        "id": "L4YnSg8cvLet",
        "outputId": "1adc54a3-30c3-4791-96ca-bf36b805f0f4"
      },
      "execution_count": 155,
      "outputs": [
        {
          "output_type": "stream",
          "name": "stdout",
          "text": [
            "root\n",
            " |-- andar: long (nullable = true)\n",
            " |-- area_total: integer (nullable = true)\n",
            " |-- area_util: integer (nullable = true)\n",
            " |-- banheiros: integer (nullable = true)\n",
            " |-- caracteristicas: array (nullable = true)\n",
            " |    |-- element: string (containsNull = true)\n",
            " |-- endereco: struct (nullable = true)\n",
            " |    |-- bairro: string (nullable = true)\n",
            " |    |-- cep: string (nullable = true)\n",
            " |    |-- cidade: string (nullable = true)\n",
            " |    |-- estado: string (nullable = true)\n",
            " |    |-- latitude: double (nullable = true)\n",
            " |    |-- longitude: double (nullable = true)\n",
            " |    |-- pais: string (nullable = true)\n",
            " |    |-- rua: string (nullable = true)\n",
            " |    |-- zona: string (nullable = true)\n",
            " |-- id: string (nullable = true)\n",
            " |-- quartos: integer (nullable = true)\n",
            " |-- suites: integer (nullable = true)\n",
            " |-- tipo_anuncio: string (nullable = true)\n",
            " |-- tipo_unidade: string (nullable = true)\n",
            " |-- tipo_uso: string (nullable = true)\n",
            " |-- vaga: integer (nullable = true)\n",
            " |-- valores: array (nullable = true)\n",
            " |    |-- element: struct (containsNull = true)\n",
            " |    |    |-- condominio: string (nullable = true)\n",
            " |    |    |-- iptu: string (nullable = true)\n",
            " |    |    |-- tipo: string (nullable = true)\n",
            " |    |    |-- valor: string (nullable = true)\n",
            "\n"
          ]
        }
      ]
    },
    {
      "cell_type": "markdown",
      "source": [
        "### **Simplificando Coluna Endereço**\n",
        "\n",
        "- Persistir apenas as informações **zona** e **bairro**"
      ],
      "metadata": {
        "id": "_m_Epudkvgi-"
      }
    },
    {
      "cell_type": "code",
      "source": [
        "df_anuncio.select('endereco').printSchema()"
      ],
      "metadata": {
        "colab": {
          "base_uri": "https://localhost:8080/"
        },
        "id": "EwRmNNudvPcz",
        "outputId": "dc582ec1-d993-45cd-cd69-ff9187fead1d"
      },
      "execution_count": 156,
      "outputs": [
        {
          "output_type": "stream",
          "name": "stdout",
          "text": [
            "root\n",
            " |-- endereco: struct (nullable = true)\n",
            " |    |-- bairro: string (nullable = true)\n",
            " |    |-- cep: string (nullable = true)\n",
            " |    |-- cidade: string (nullable = true)\n",
            " |    |-- estado: string (nullable = true)\n",
            " |    |-- latitude: double (nullable = true)\n",
            " |    |-- longitude: double (nullable = true)\n",
            " |    |-- pais: string (nullable = true)\n",
            " |    |-- rua: string (nullable = true)\n",
            " |    |-- zona: string (nullable = true)\n",
            "\n"
          ]
        }
      ]
    },
    {
      "cell_type": "code",
      "source": [
        "df_anuncio = df_anuncio\\\n",
        "    .withColumn('zona', df_anuncio.endereco.zona)\\\n",
        "    .withColumn('bairro', df_anuncio.endereco.bairro)\\\n",
        "    .drop('endereco')"
      ],
      "metadata": {
        "id": "yFAwEXzcvzBT"
      },
      "execution_count": 157,
      "outputs": []
    },
    {
      "cell_type": "code",
      "source": [
        "df_anuncio.show()"
      ],
      "metadata": {
        "colab": {
          "base_uri": "https://localhost:8080/"
        },
        "id": "d54-IBNIwKMi",
        "outputId": "137cd246-ba57-41d5-a5fa-482c7b2233b2"
      },
      "execution_count": 158,
      "outputs": [
        {
          "output_type": "stream",
          "name": "stdout",
          "text": [
            "+-----+----------+---------+---------+--------------------+--------------------+-------+------+------------+------------+-----------+----+--------------------+------------+--------------+\n",
            "|andar|area_total|area_util|banheiros|     caracteristicas|                  id|quartos|suites|tipo_anuncio|tipo_unidade|   tipo_uso|vaga|             valores|        zona|        bairro|\n",
            "+-----+----------+---------+---------+--------------------+--------------------+-------+------+------------+------------+-----------+----+--------------------+------------+--------------+\n",
            "|    0|      null|       16|        0|                  []|47d553e0-79f2-4a4...|      0|     0|       Usado|      Outros|  Comercial|   1|[{260, 107, Venda...|Zona Central|        Centro|\n",
            "|    0|      null|       14|        0|                  []|b6ffbae1-17f6-487...|      0|  null|       Usado|      Outros|  Comercial|   0|[{260, 107, Venda...|Zona Central|        Centro|\n",
            "|    0|      1026|     1026|        0|                  []|1fb030a5-9e3e-4a1...|      0|  null|       Usado|      Outros|  Comercial|   0|[{null, 1613, Ven...|  Zona Norte|Maria da Graça|\n",
            "|    0|       120|      120|        0|[Portão eletrônic...|ac6cb348-69d6-45a...|      0|  null|       Usado|      Outros|Residencial|null|[{80, null, Venda...|  Zona Oeste|  Campo Grande|\n",
            "|    0|         3|        3|        0|                  []|e032b908-ef42-4d4...|      0|  null|       Usado|      Outros|Residencial|null|[{0, 0, Venda, 50...|  Zona Norte| São Cristóvão|\n",
            "|    0|        20|       15|        1|                  []|df9cf0b8-b972-433...|      0|  null|       Usado|      Outros|  Comercial|   1|[{223, 87, Venda,...|Zona Central|        Centro|\n",
            "|    3|        43|       43|        1|[Academia, Churra...|d2e3a3aa-09b5-45a...|      2|  null|       Usado| Apartamento|Residencial|   1|[{245, null, Vend...|  Zona Oeste|     Paciência|\n",
            "|    2|        42|       42|        1|[Churrasqueira, P...|085bab2c-87ad-452...|      2|  null|       Usado| Apartamento|Residencial|   1|[{0, 0, Venda, 15...|  Zona Oeste|     Paciência|\n",
            "|    0|      null|       12|        0|[Portaria 24h, El...|096ad966-dc36-47b...|      0|  null|       Usado|      Outros|  Comercial|   1|[{250, null, Vend...|Zona Central|        Centro|\n",
            "|    1|        41|       41|        1|[Portaria 24h, Co...|18d22cbe-1b86-476...|      2|  null|       Usado| Apartamento|Residencial|   1|[{0, 0, Venda, 20...|  Zona Oeste|     Guaratiba|\n",
            "|    3|        43|       43|        1|[Churrasqueira, P...|bed8a354-9317-442...|      2|  null|       Usado| Apartamento|Residencial|   0|[{285, null, Vend...|  Zona Oeste|        Cosmos|\n",
            "|    0|        10|        4|        0|[Elevador, Portar...|b7d0fbd3-0b28-420...|      0|  null|       Usado|      Outros|  Comercial|   0|[{200, 86, Venda,...|Zona Central|        Centro|\n",
            "|    0|        12|       12|        1|      [Portaria 24h]|c6571c11-166e-4a4...|      0|  null|       Usado|      Outros|  Comercial|null|[{470, null, Vend...|    Zona Sul|    Copacabana|\n",
            "|    0|        17|       17|        0|          [Elevador]|46d5b560-205f-45f...|      0|  null|       Usado|      Outros|  Comercial|   1|[{294, 98, Venda,...|Zona Central|        Centro|\n",
            "|    1|        32|       32|     null|[Elevador, Condom...|db197997-00e6-4d6...|   null|  null|       Usado|      Outros|  Comercial|   1|[{684, null, Vend...|Zona Central|        Centro|\n",
            "|    0|      null|       10|        0|[Elevador, Condom...|835d4338-4aa9-4e4...|      0|  null|       Usado|      Outros|  Comercial|null|[{0, 120, Venda, ...|Zona Central|         Saúde|\n",
            "|    2|        43|       43|        1|[Academia, Churra...|12a13315-d67f-48f...|      2|  null|       Usado| Apartamento|Residencial|   1|[{245, null, Vend...|  Zona Oeste|     Guaratiba|\n",
            "|    3|        43|       43|        1|[Churrasqueira, P...|a2e6d7a5-0ff0-484...|      2|     0|       Usado| Apartamento|Residencial|   0|[{285, null, Vend...|  Zona Oeste|        Cosmos|\n",
            "|    3|        43|       43|        1|[Churrasqueira, P...|a6e3173b-c950-4db...|      2|  null|       Usado| Apartamento|Residencial|   1|[{250, null, Vend...|  Zona Oeste|     Paciência|\n",
            "|    3|        43|       43|        1|[Churrasqueira, P...|2e6e5dfb-206c-496...|      2|     0|       Usado| Apartamento|Residencial|   1|[{245, null, Vend...|  Zona Oeste|     Guaratiba|\n",
            "+-----+----------+---------+---------+--------------------+--------------------+-------+------+------------+------------+-----------+----+--------------------+------------+--------------+\n",
            "only showing top 20 rows\n",
            "\n"
          ]
        }
      ]
    },
    {
      "cell_type": "code",
      "source": [
        "df_anuncio.printSchema()"
      ],
      "metadata": {
        "colab": {
          "base_uri": "https://localhost:8080/"
        },
        "id": "C0gEZs9Iw0TU",
        "outputId": "2d57e80b-d0df-4232-d2e7-2b0eadf7ae88"
      },
      "execution_count": 159,
      "outputs": [
        {
          "output_type": "stream",
          "name": "stdout",
          "text": [
            "root\n",
            " |-- andar: long (nullable = true)\n",
            " |-- area_total: integer (nullable = true)\n",
            " |-- area_util: integer (nullable = true)\n",
            " |-- banheiros: integer (nullable = true)\n",
            " |-- caracteristicas: array (nullable = true)\n",
            " |    |-- element: string (containsNull = true)\n",
            " |-- id: string (nullable = true)\n",
            " |-- quartos: integer (nullable = true)\n",
            " |-- suites: integer (nullable = true)\n",
            " |-- tipo_anuncio: string (nullable = true)\n",
            " |-- tipo_unidade: string (nullable = true)\n",
            " |-- tipo_uso: string (nullable = true)\n",
            " |-- vaga: integer (nullable = true)\n",
            " |-- valores: array (nullable = true)\n",
            " |    |-- element: struct (containsNull = true)\n",
            " |    |    |-- condominio: string (nullable = true)\n",
            " |    |    |-- iptu: string (nullable = true)\n",
            " |    |    |-- tipo: string (nullable = true)\n",
            " |    |    |-- valor: string (nullable = true)\n",
            " |-- zona: string (nullable = true)\n",
            " |-- bairro: string (nullable = true)\n",
            "\n"
          ]
        }
      ]
    },
    {
      "cell_type": "code",
      "source": [
        "df_anuncio.groupBy('zona').count().show()"
      ],
      "metadata": {
        "colab": {
          "base_uri": "https://localhost:8080/"
        },
        "id": "PbVHg8Gew3pq",
        "outputId": "984685d0-641d-418a-cd96-c4d68589350c"
      },
      "execution_count": 160,
      "outputs": [
        {
          "output_type": "stream",
          "name": "stdout",
          "text": [
            "+------------+-----+\n",
            "|        zona|count|\n",
            "+------------+-----+\n",
            "|  Zona Norte|15277|\n",
            "|  Zona Oeste|49047|\n",
            "|Zona Central| 2122|\n",
            "|    Zona Sul|22621|\n",
            "|            |   16|\n",
            "+------------+-----+\n",
            "\n"
          ]
        }
      ]
    },
    {
      "cell_type": "code",
      "source": [
        "df_anuncio.groupBy('bairro').count().show()"
      ],
      "metadata": {
        "colab": {
          "base_uri": "https://localhost:8080/"
        },
        "id": "-5q7BuybxBap",
        "outputId": "f1bd9300-789a-48b8-e9ac-c3f973ea778b"
      },
      "execution_count": 161,
      "outputs": [
        {
          "output_type": "stream",
          "name": "stdout",
          "text": [
            "+-------------------+-----+\n",
            "|             bairro|count|\n",
            "+-------------------+-----+\n",
            "|             Cocotá|   26|\n",
            "|       Tomás Coelho|   45|\n",
            "|              Gávea|  729|\n",
            "|            Ipanema| 2304|\n",
            "|           Realengo|  142|\n",
            "|      Gardênia Azul|   16|\n",
            "|      Bento Ribeiro|   94|\n",
            "|              Rocha|   51|\n",
            "|Vicente de Carvalho|  108|\n",
            "|              Dumas|    1|\n",
            "|         Manguinhos|    2|\n",
            "|       Campo Grande| 2013|\n",
            "|           Botafogo| 3849|\n",
            "|        Jacarepaguá| 5102|\n",
            "|               Leme|  247|\n",
            "|       Padre Miguel|   39|\n",
            "|  Engenho da Rainha|   33|\n",
            "|       Santo Cristo|  403|\n",
            "|           Flamengo| 1456|\n",
            "| Pedra de Guaratiba|  106|\n",
            "+-------------------+-----+\n",
            "only showing top 20 rows\n",
            "\n"
          ]
        }
      ]
    },
    {
      "cell_type": "markdown",
      "source": [
        "#### **Modificando informações da coluna valores**"
      ],
      "metadata": {
        "id": "otvA7yDXxnUU"
      }
    },
    {
      "cell_type": "code",
      "source": [
        "df_anuncio = df_anuncio\\\n",
        "    .withColumn('condominio', df_anuncio.valores.condominio)\\\n",
        "    .withColumn('iptu', df_anuncio.valores.iptu)\\\n",
        "    .withColumn('tipo', df_anuncio.valores.tipo)\\\n",
        "    .withColumn('valor', df_anuncio.valores.valor)\\\n",
        "    .drop('valores')"
      ],
      "metadata": {
        "id": "X2lPFM6axKjO"
      },
      "execution_count": 162,
      "outputs": []
    },
    {
      "cell_type": "code",
      "source": [
        "df_anuncio.select('condominio', 'iptu', 'valor', 'tipo').show()"
      ],
      "metadata": {
        "colab": {
          "base_uri": "https://localhost:8080/"
        },
        "id": "oOIYeDJHySQB",
        "outputId": "e6d244c9-f9e9-4877-dd75-7cbdab2c98f1"
      },
      "execution_count": 163,
      "outputs": [
        {
          "output_type": "stream",
          "name": "stdout",
          "text": [
            "+----------+------+-------+-------+\n",
            "|condominio|  iptu|  valor|   tipo|\n",
            "+----------+------+-------+-------+\n",
            "|     [260]| [107]|[10000]|[Venda]|\n",
            "|     [260]| [107]|[10000]|[Venda]|\n",
            "|    [null]|[1613]|[10000]|[Venda]|\n",
            "|      [80]|[null]|[10000]|[Venda]|\n",
            "|       [0]|   [0]| [5000]|[Venda]|\n",
            "|     [223]|  [87]|[18500]|[Venda]|\n",
            "|     [245]|[null]|[15000]|[Venda]|\n",
            "|       [0]|   [0]|[15000]|[Venda]|\n",
            "|     [250]|[null]|[20000]|[Venda]|\n",
            "|       [0]|   [0]|[20000]|[Venda]|\n",
            "|     [285]|[null]|[20000]|[Venda]|\n",
            "|     [200]|  [86]|[11500]|[Venda]|\n",
            "|     [470]|[null]|[12000]|[Venda]|\n",
            "|     [294]|  [98]|[18000]|[Venda]|\n",
            "|     [684]|[null]|[15000]|[Venda]|\n",
            "|       [0]| [120]|[20000]|[Venda]|\n",
            "|     [245]|[null]|[15000]|[Venda]|\n",
            "|     [285]|[null]|[20000]|[Venda]|\n",
            "|     [250]|[null]|[15000]|[Venda]|\n",
            "|     [245]|[null]|[15000]|[Venda]|\n",
            "+----------+------+-------+-------+\n",
            "only showing top 20 rows\n",
            "\n"
          ]
        }
      ]
    },
    {
      "cell_type": "code",
      "source": [
        "valores = ['condominio', 'iptu', 'valor']\n",
        "\n",
        "for c in valores:\n",
        "    df_anuncio = df_anuncio.withColumn(c, cast_array_udf(c))"
      ],
      "metadata": {
        "id": "SNvfP5qhyjhE"
      },
      "execution_count": 164,
      "outputs": []
    },
    {
      "cell_type": "code",
      "source": [
        "df_anuncio = df_anuncio\\\n",
        "    .withColumn('tipo_venda', f.col('tipo').getItem(0))\\\n",
        "    .drop('tipo')"
      ],
      "metadata": {
        "id": "fFpdvdKDzSMP"
      },
      "execution_count": 171,
      "outputs": []
    },
    {
      "cell_type": "code",
      "source": [
        "df_anuncio.printSchema()"
      ],
      "metadata": {
        "colab": {
          "base_uri": "https://localhost:8080/"
        },
        "id": "I4bsC1d-zWwA",
        "outputId": "7472c21c-68bd-44c5-b87c-51c75fb994b2"
      },
      "execution_count": 172,
      "outputs": [
        {
          "output_type": "stream",
          "name": "stdout",
          "text": [
            "root\n",
            " |-- andar: long (nullable = true)\n",
            " |-- area_total: integer (nullable = true)\n",
            " |-- area_util: integer (nullable = true)\n",
            " |-- banheiros: integer (nullable = true)\n",
            " |-- caracteristicas: array (nullable = true)\n",
            " |    |-- element: string (containsNull = true)\n",
            " |-- id: string (nullable = true)\n",
            " |-- quartos: integer (nullable = true)\n",
            " |-- suites: integer (nullable = true)\n",
            " |-- tipo_anuncio: string (nullable = true)\n",
            " |-- tipo_unidade: string (nullable = true)\n",
            " |-- tipo_uso: string (nullable = true)\n",
            " |-- vaga: integer (nullable = true)\n",
            " |-- zona: string (nullable = true)\n",
            " |-- bairro: string (nullable = true)\n",
            " |-- condominio: integer (nullable = true)\n",
            " |-- iptu: integer (nullable = true)\n",
            " |-- valor: integer (nullable = true)\n",
            " |-- tipo_venda: string (nullable = true)\n",
            "\n"
          ]
        }
      ]
    },
    {
      "cell_type": "markdown",
      "source": [
        "#### **Removendo registros de imóveis para alugar**"
      ],
      "metadata": {
        "id": "eprbjBZD6qTM"
      }
    },
    {
      "cell_type": "code",
      "source": [
        "df_anuncio.groupBy('tipo_venda').count().show()"
      ],
      "metadata": {
        "colab": {
          "base_uri": "https://localhost:8080/"
        },
        "id": "5Fb2lTNj6O74",
        "outputId": "e313c9ea-7e7f-48a8-e3cb-75f8b02a09cb"
      },
      "execution_count": 175,
      "outputs": [
        {
          "output_type": "stream",
          "name": "stdout",
          "text": [
            "+----------+-----+\n",
            "|tipo_venda|count|\n",
            "+----------+-----+\n",
            "|   Aluguel|  811|\n",
            "|     Venda|88272|\n",
            "+----------+-----+\n",
            "\n"
          ]
        }
      ]
    },
    {
      "cell_type": "code",
      "source": [
        "df_anuncio = df_anuncio.select(\"*\").where(\"tipo_venda == 'Venda'\")"
      ],
      "metadata": {
        "id": "buBiOb_w6i2q"
      },
      "execution_count": 180,
      "outputs": []
    },
    {
      "cell_type": "code",
      "source": [
        "df_anuncio.groupBy('tipo_venda').count().show()"
      ],
      "metadata": {
        "colab": {
          "base_uri": "https://localhost:8080/"
        },
        "id": "3q839TQk7ZWz",
        "outputId": "799f0cc5-b852-49d0-9245-196c29bd9227"
      },
      "execution_count": 181,
      "outputs": [
        {
          "output_type": "stream",
          "name": "stdout",
          "text": [
            "+----------+-----+\n",
            "|tipo_venda|count|\n",
            "+----------+-----+\n",
            "|     Venda|88272|\n",
            "+----------+-----+\n",
            "\n"
          ]
        }
      ]
    },
    {
      "cell_type": "code",
      "source": [
        "df_anuncio = df_anuncio.drop('tipo_venda')"
      ],
      "metadata": {
        "id": "5vO-H8FG7vGO"
      },
      "execution_count": 182,
      "outputs": []
    },
    {
      "cell_type": "code",
      "source": [
        "df_anuncio.printSchema()"
      ],
      "metadata": {
        "colab": {
          "base_uri": "https://localhost:8080/"
        },
        "id": "5R7UNuRc73X4",
        "outputId": "b38063d0-d736-41de-e230-61d81de0b0fa"
      },
      "execution_count": 183,
      "outputs": [
        {
          "output_type": "stream",
          "name": "stdout",
          "text": [
            "root\n",
            " |-- andar: long (nullable = true)\n",
            " |-- area_total: integer (nullable = true)\n",
            " |-- area_util: integer (nullable = true)\n",
            " |-- banheiros: integer (nullable = true)\n",
            " |-- caracteristicas: array (nullable = true)\n",
            " |    |-- element: string (containsNull = true)\n",
            " |-- id: string (nullable = true)\n",
            " |-- quartos: integer (nullable = true)\n",
            " |-- suites: integer (nullable = true)\n",
            " |-- tipo_anuncio: string (nullable = true)\n",
            " |-- tipo_unidade: string (nullable = true)\n",
            " |-- tipo_uso: string (nullable = true)\n",
            " |-- vaga: integer (nullable = true)\n",
            " |-- zona: string (nullable = true)\n",
            " |-- bairro: string (nullable = true)\n",
            " |-- condominio: integer (nullable = true)\n",
            " |-- iptu: integer (nullable = true)\n",
            " |-- valor: integer (nullable = true)\n",
            "\n"
          ]
        }
      ]
    },
    {
      "cell_type": "markdown",
      "source": [
        "## **Salvando Dados**"
      ],
      "metadata": {
        "id": "ppjZuMet8RY-"
      }
    },
    {
      "cell_type": "markdown",
      "source": [
        "### Salvando dados no formato parquet"
      ],
      "metadata": {
        "id": "jOZqVfiq8WhY"
      }
    },
    {
      "cell_type": "code",
      "source": [
        "df_anuncio.write.parquet('anuncios.parquet')"
      ],
      "metadata": {
        "id": "7QTqqdoJ76P_"
      },
      "execution_count": 184,
      "outputs": []
    },
    {
      "cell_type": "markdown",
      "source": [
        "#### Salvando dados no formato csv"
      ],
      "metadata": {
        "id": "oxxd_x4Z9rdy"
      }
    },
    {
      "cell_type": "code",
      "source": [
        "df_anuncio.select('caracteristicas')\\\n",
        "    .withColumn('caracteristicas', f.concat_ws(', ',f.col('caracteristicas')))\\\n",
        "    .show(truncate=False)"
      ],
      "metadata": {
        "colab": {
          "base_uri": "https://localhost:8080/"
        },
        "id": "MykoHqQo9yFl",
        "outputId": "71cc08a8-77cd-4754-afb1-28465bed0a90"
      },
      "execution_count": 192,
      "outputs": [
        {
          "output_type": "stream",
          "name": "stdout",
          "text": [
            "+-----------------------------------------------------------------------------------------------------------------------------+\n",
            "|caracteristicas                                                                                                              |\n",
            "+-----------------------------------------------------------------------------------------------------------------------------+\n",
            "|                                                                                                                             |\n",
            "|                                                                                                                             |\n",
            "|                                                                                                                             |\n",
            "|Portão eletrônico, Condomínio fechado                                                                                        |\n",
            "|                                                                                                                             |\n",
            "|                                                                                                                             |\n",
            "|Academia, Churrasqueira, Playground, Salão de festas, Condomínio fechado, Portão eletrônico, Portaria 24h, Animais permitidos|\n",
            "|Churrasqueira, Playground, Salão de festas, Condomínio fechado, Portão eletrônico, Portaria 24h, Animais permitidos          |\n",
            "|Portaria 24h, Elevador                                                                                                       |\n",
            "|Portaria 24h, Condomínio fechado, Playground, Salão de festas, Churrasqueira, Portão eletrônico                              |\n",
            "|Churrasqueira, Piscina, Playground, Salão de festas, Condomínio fechado, Portão eletrônico, Portaria 24h, Animais permitidos |\n",
            "|Elevador, Portaria 24h                                                                                                       |\n",
            "|Portaria 24h                                                                                                                 |\n",
            "|Elevador                                                                                                                     |\n",
            "|Elevador, Condomínio fechado, Portão eletrônico                                                                              |\n",
            "|Elevador, Condomínio fechado, Portão eletrônico, Portaria 24h                                                                |\n",
            "|Academia, Churrasqueira, Playground, Salão de festas, Condomínio fechado, Portão eletrônico, Portaria 24h, Animais permitidos|\n",
            "|Churrasqueira, Piscina, Playground, Salão de festas, Condomínio fechado, Portaria 24h, Portão eletrônico, Animais permitidos |\n",
            "|Churrasqueira, Playground, Salão de festas, Condomínio fechado, Portão eletrônico, Portaria 24h, Animais permitidos          |\n",
            "|Churrasqueira, Playground, Salão de festas, Condomínio fechado, Portão eletrônico, Animais permitidos                        |\n",
            "+-----------------------------------------------------------------------------------------------------------------------------+\n",
            "only showing top 20 rows\n",
            "\n"
          ]
        }
      ]
    },
    {
      "cell_type": "code",
      "source": [
        "df_anuncio_csv = df_anuncio.select('*')\\\n",
        "    .withColumn('caracteristicas', f.concat_ws(', ',f.col('caracteristicas')))"
      ],
      "metadata": {
        "id": "qQxFNaey-VVx"
      },
      "execution_count": 193,
      "outputs": []
    },
    {
      "cell_type": "markdown",
      "source": [
        "###"
      ],
      "metadata": {
        "id": "4G9h5BkP_7G2"
      }
    },
    {
      "cell_type": "code",
      "source": [
        "%%time\n",
        "1 + 5"
      ],
      "metadata": {
        "colab": {
          "base_uri": "https://localhost:8080/"
        },
        "id": "Z3-Ca0Vz_Vq6",
        "outputId": "3dcdbd60-85b3-430e-bd59-a2d49f813780"
      },
      "execution_count": 196,
      "outputs": [
        {
          "output_type": "stream",
          "name": "stdout",
          "text": [
            "CPU times: user 4 µs, sys: 0 ns, total: 4 µs\n",
            "Wall time: 9.3 µs\n"
          ]
        },
        {
          "output_type": "execute_result",
          "data": {
            "text/plain": [
              "6"
            ]
          },
          "metadata": {},
          "execution_count": 196
        }
      ]
    },
    {
      "cell_type": "markdown",
      "source": [
        "### **Comparando Leitura: Parquet x CSV**"
      ],
      "metadata": {
        "id": "cVCzj82IAGn3"
      }
    },
    {
      "cell_type": "code",
      "source": [
        "import time\n",
        "\n",
        "start = time.time()\n",
        "df_csv = spark.read.csv('anuncios.csv')\n",
        "tempo_csv = time.time() - start"
      ],
      "metadata": {
        "id": "276lc8SU_QBk"
      },
      "execution_count": 202,
      "outputs": []
    },
    {
      "cell_type": "code",
      "source": [
        "start = time.time()\n",
        "df_parquet = spark.read.parquet('anuncios.parquet')\n",
        "tempo_parquet = time.time() - start"
      ],
      "metadata": {
        "id": "-Fb_k0NG_pUt"
      },
      "execution_count": 205,
      "outputs": []
    },
    {
      "cell_type": "code",
      "source": [
        "print(f'Tempo de leitura csv: {tempo_csv}')\n",
        "print(f'Tempo de leitura parquet: {tempo_parquet}')"
      ],
      "metadata": {
        "colab": {
          "base_uri": "https://localhost:8080/"
        },
        "id": "uPRPLFaKAkff",
        "outputId": "15b281a0-817d-4a47-d911-9bbda8d09920"
      },
      "execution_count": 206,
      "outputs": [
        {
          "output_type": "stream",
          "name": "stdout",
          "text": [
            "Tempo de leitura csv: 0.4309980869293213\n",
            "Tempo de leitura parquet: 0.16490793228149414\n"
          ]
        }
      ]
    },
    {
      "cell_type": "code",
      "source": [
        "df_parquet.printSchema()"
      ],
      "metadata": {
        "colab": {
          "base_uri": "https://localhost:8080/"
        },
        "id": "PtINYU2EA2sG",
        "outputId": "1570bcac-e02d-4612-e5a8-dc1e40416c87"
      },
      "execution_count": 208,
      "outputs": [
        {
          "output_type": "stream",
          "name": "stdout",
          "text": [
            "root\n",
            " |-- andar: long (nullable = true)\n",
            " |-- area_total: integer (nullable = true)\n",
            " |-- area_util: integer (nullable = true)\n",
            " |-- banheiros: integer (nullable = true)\n",
            " |-- caracteristicas: array (nullable = true)\n",
            " |    |-- element: string (containsNull = true)\n",
            " |-- id: string (nullable = true)\n",
            " |-- quartos: integer (nullable = true)\n",
            " |-- suites: integer (nullable = true)\n",
            " |-- tipo_anuncio: string (nullable = true)\n",
            " |-- tipo_unidade: string (nullable = true)\n",
            " |-- tipo_uso: string (nullable = true)\n",
            " |-- vaga: integer (nullable = true)\n",
            " |-- zona: string (nullable = true)\n",
            " |-- bairro: string (nullable = true)\n",
            " |-- condominio: integer (nullable = true)\n",
            " |-- iptu: integer (nullable = true)\n",
            " |-- valor: integer (nullable = true)\n",
            "\n"
          ]
        }
      ]
    },
    {
      "cell_type": "code",
      "source": [
        "df_parquet.show()"
      ],
      "metadata": {
        "colab": {
          "base_uri": "https://localhost:8080/"
        },
        "id": "9P5nKS1pBFXZ",
        "outputId": "e73d42c1-a757-4137-9a76-d9396531e475"
      },
      "execution_count": 209,
      "outputs": [
        {
          "output_type": "stream",
          "name": "stdout",
          "text": [
            "+-----+----------+---------+---------+--------------------+--------------------+-------+------+------------+------------+-----------+----+------------+--------------+----------+----+-----+\n",
            "|andar|area_total|area_util|banheiros|     caracteristicas|                  id|quartos|suites|tipo_anuncio|tipo_unidade|   tipo_uso|vaga|        zona|        bairro|condominio|iptu|valor|\n",
            "+-----+----------+---------+---------+--------------------+--------------------+-------+------+------------+------------+-----------+----+------------+--------------+----------+----+-----+\n",
            "|    0|      null|       16|        0|                  []|47d553e0-79f2-4a4...|      0|     0|       Usado|      Outros|  Comercial|   1|Zona Central|        Centro|       260| 107|10000|\n",
            "|    0|      null|       14|        0|                  []|b6ffbae1-17f6-487...|      0|  null|       Usado|      Outros|  Comercial|   0|Zona Central|        Centro|       260| 107|10000|\n",
            "|    0|      1026|     1026|        0|                  []|1fb030a5-9e3e-4a1...|      0|  null|       Usado|      Outros|  Comercial|   0|  Zona Norte|Maria da Graça|      null|1613|10000|\n",
            "|    0|       120|      120|        0|[Portão eletrônic...|ac6cb348-69d6-45a...|      0|  null|       Usado|      Outros|Residencial|null|  Zona Oeste|  Campo Grande|        80|null|10000|\n",
            "|    0|         3|        3|        0|                  []|e032b908-ef42-4d4...|      0|  null|       Usado|      Outros|Residencial|null|  Zona Norte| São Cristóvão|         0|   0| 5000|\n",
            "|    0|        20|       15|        1|                  []|df9cf0b8-b972-433...|      0|  null|       Usado|      Outros|  Comercial|   1|Zona Central|        Centro|       223|  87|18500|\n",
            "|    3|        43|       43|        1|[Academia, Churra...|d2e3a3aa-09b5-45a...|      2|  null|       Usado| Apartamento|Residencial|   1|  Zona Oeste|     Paciência|       245|null|15000|\n",
            "|    2|        42|       42|        1|[Churrasqueira, P...|085bab2c-87ad-452...|      2|  null|       Usado| Apartamento|Residencial|   1|  Zona Oeste|     Paciência|         0|   0|15000|\n",
            "|    0|      null|       12|        0|[Portaria 24h, El...|096ad966-dc36-47b...|      0|  null|       Usado|      Outros|  Comercial|   1|Zona Central|        Centro|       250|null|20000|\n",
            "|    1|        41|       41|        1|[Portaria 24h, Co...|18d22cbe-1b86-476...|      2|  null|       Usado| Apartamento|Residencial|   1|  Zona Oeste|     Guaratiba|         0|   0|20000|\n",
            "|    3|        43|       43|        1|[Churrasqueira, P...|bed8a354-9317-442...|      2|  null|       Usado| Apartamento|Residencial|   0|  Zona Oeste|        Cosmos|       285|null|20000|\n",
            "|    0|        10|        4|        0|[Elevador, Portar...|b7d0fbd3-0b28-420...|      0|  null|       Usado|      Outros|  Comercial|   0|Zona Central|        Centro|       200|  86|11500|\n",
            "|    0|        12|       12|        1|      [Portaria 24h]|c6571c11-166e-4a4...|      0|  null|       Usado|      Outros|  Comercial|null|    Zona Sul|    Copacabana|       470|null|12000|\n",
            "|    0|        17|       17|        0|          [Elevador]|46d5b560-205f-45f...|      0|  null|       Usado|      Outros|  Comercial|   1|Zona Central|        Centro|       294|  98|18000|\n",
            "|    1|        32|       32|     null|[Elevador, Condom...|db197997-00e6-4d6...|   null|  null|       Usado|      Outros|  Comercial|   1|Zona Central|        Centro|       684|null|15000|\n",
            "|    0|      null|       10|        0|[Elevador, Condom...|835d4338-4aa9-4e4...|      0|  null|       Usado|      Outros|  Comercial|null|Zona Central|         Saúde|         0| 120|20000|\n",
            "|    2|        43|       43|        1|[Academia, Churra...|12a13315-d67f-48f...|      2|  null|       Usado| Apartamento|Residencial|   1|  Zona Oeste|     Guaratiba|       245|null|15000|\n",
            "|    3|        43|       43|        1|[Churrasqueira, P...|a2e6d7a5-0ff0-484...|      2|     0|       Usado| Apartamento|Residencial|   0|  Zona Oeste|        Cosmos|       285|null|20000|\n",
            "|    3|        43|       43|        1|[Churrasqueira, P...|a6e3173b-c950-4db...|      2|  null|       Usado| Apartamento|Residencial|   1|  Zona Oeste|     Paciência|       250|null|15000|\n",
            "|    3|        43|       43|        1|[Churrasqueira, P...|2e6e5dfb-206c-496...|      2|     0|       Usado| Apartamento|Residencial|   1|  Zona Oeste|     Guaratiba|       245|null|15000|\n",
            "+-----+----------+---------+---------+--------------------+--------------------+-------+------+------------+------------+-----------+----+------------+--------------+----------+----+-----+\n",
            "only showing top 20 rows\n",
            "\n"
          ]
        }
      ]
    },
    {
      "cell_type": "code",
      "source": [],
      "metadata": {
        "id": "tx6qFyI2BLkf"
      },
      "execution_count": null,
      "outputs": []
    }
  ]
}